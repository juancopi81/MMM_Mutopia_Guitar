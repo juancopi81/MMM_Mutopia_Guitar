{
  "cells": [
    {
      "cell_type": "markdown",
      "metadata": {
        "id": "tLKcQ8SdC17l"
      },
      "source": [
        "**This notebook is based on the Hugging Face course - [Chapter 9: Building and sharing demos.](https://huggingface.co/course/chapter9/1?fw=tf)**\n",
        "\n",
        "You trained the **GPT-2 model for generating guitar music** in the [last notebook](https://colab.research.google.com/drive/13fL8J0f8X7dhyF_o8CDA7jle1sDLnkcQ?usp=sharing). You should have by now a model in the Hugging Face hub with a nice widget for generating music.\n",
        "\n",
        "Still, this is not a very useful way to present the model. It shows the input and output as text and not as music. In this notebook, you'll create a gradio demo with a better interface than the model card, so the users of your model can generate and listen to guitar music with the model.\n",
        "\n",
        "Let's start by installing gradio and all the necessary libraries."
      ]
    },
    {
      "cell_type": "code",
      "execution_count": 1,
      "metadata": {
        "colab": {
          "base_uri": "https://localhost:8080/",
          "height": 1000
        },
        "id": "grnxTkB2Cqnd",
        "outputId": "9d2c4e53-13cd-4862-c7e6-73079660c835"
      },
      "outputs": [
        {
          "output_type": "stream",
          "name": "stdout",
          "text": [
            "Selecting previously unselected package libfluidsynth1:amd64.\n",
            "(Reading database ... 155569 files and directories currently installed.)\n",
            "Preparing to unpack .../libfluidsynth1_1.1.9-1_amd64.deb ...\n",
            "Unpacking libfluidsynth1:amd64 (1.1.9-1) ...\n",
            "Setting up libfluidsynth1:amd64 (1.1.9-1) ...\n",
            "Processing triggers for libc-bin (2.27-3ubuntu1.5) ...\n",
            "Looking in indexes: https://pypi.org/simple, https://us-python.pkg.dev/colab-wheels/public/simple/\n",
            "Collecting gradio\n",
            "  Downloading gradio-3.3.1-py3-none-any.whl (5.3 MB)\n",
            "\u001b[K     |████████████████████████████████| 5.3 MB 7.3 MB/s \n",
            "\u001b[?25hCollecting orjson\n",
            "  Downloading orjson-3.8.0-cp37-cp37m-manylinux_2_17_x86_64.manylinux2014_x86_64.whl (270 kB)\n",
            "\u001b[K     |████████████████████████████████| 270 kB 27.2 MB/s \n",
            "\u001b[?25hRequirement already satisfied: aiohttp in /usr/local/lib/python3.7/dist-packages (from gradio) (3.8.1)\n",
            "Requirement already satisfied: fsspec in /usr/local/lib/python3.7/dist-packages (from gradio) (2022.8.2)\n",
            "Requirement already satisfied: numpy in /usr/local/lib/python3.7/dist-packages (from gradio) (1.21.6)\n",
            "Collecting analytics-python\n",
            "  Downloading analytics_python-1.4.0-py2.py3-none-any.whl (15 kB)\n",
            "Collecting pydub\n",
            "  Downloading pydub-0.25.1-py2.py3-none-any.whl (32 kB)\n",
            "Requirement already satisfied: jinja2 in /usr/local/lib/python3.7/dist-packages (from gradio) (2.11.3)\n",
            "Requirement already satisfied: requests in /usr/local/lib/python3.7/dist-packages (from gradio) (2.23.0)\n",
            "Requirement already satisfied: pillow in /usr/local/lib/python3.7/dist-packages (from gradio) (7.1.2)\n",
            "Collecting paramiko\n",
            "  Downloading paramiko-2.11.0-py2.py3-none-any.whl (212 kB)\n",
            "\u001b[K     |████████████████████████████████| 212 kB 67.5 MB/s \n",
            "\u001b[?25hCollecting uvicorn\n",
            "  Downloading uvicorn-0.18.3-py3-none-any.whl (57 kB)\n",
            "\u001b[K     |████████████████████████████████| 57 kB 5.8 MB/s \n",
            "\u001b[?25hRequirement already satisfied: pydantic in /usr/local/lib/python3.7/dist-packages (from gradio) (1.9.2)\n",
            "Collecting h11<0.13,>=0.11\n",
            "  Downloading h11-0.12.0-py3-none-any.whl (54 kB)\n",
            "\u001b[K     |████████████████████████████████| 54 kB 3.7 MB/s \n",
            "\u001b[?25hRequirement already satisfied: pyyaml in /usr/local/lib/python3.7/dist-packages (from gradio) (6.0)\n",
            "Collecting python-multipart\n",
            "  Downloading python-multipart-0.0.5.tar.gz (32 kB)\n",
            "Collecting httpx\n",
            "  Downloading httpx-0.23.0-py3-none-any.whl (84 kB)\n",
            "\u001b[K     |████████████████████████████████| 84 kB 3.8 MB/s \n",
            "\u001b[?25hCollecting markdown-it-py[linkify,plugins]\n",
            "  Downloading markdown_it_py-2.1.0-py3-none-any.whl (84 kB)\n",
            "\u001b[K     |████████████████████████████████| 84 kB 3.8 MB/s \n",
            "\u001b[?25hRequirement already satisfied: pandas in /usr/local/lib/python3.7/dist-packages (from gradio) (1.3.5)\n",
            "Collecting ffmpy\n",
            "  Downloading ffmpy-0.3.0.tar.gz (4.8 kB)\n",
            "Collecting websockets\n",
            "  Downloading websockets-10.3-cp37-cp37m-manylinux_2_5_x86_64.manylinux1_x86_64.manylinux_2_12_x86_64.manylinux2010_x86_64.whl (112 kB)\n",
            "\u001b[K     |████████████████████████████████| 112 kB 47.9 MB/s \n",
            "\u001b[?25hRequirement already satisfied: matplotlib in /usr/local/lib/python3.7/dist-packages (from gradio) (3.2.2)\n",
            "Collecting pycryptodome\n",
            "  Downloading pycryptodome-3.15.0-cp35-abi3-manylinux2010_x86_64.whl (2.3 MB)\n",
            "\u001b[K     |████████████████████████████████| 2.3 MB 34.4 MB/s \n",
            "\u001b[?25hCollecting fastapi\n",
            "  Downloading fastapi-0.85.0-py3-none-any.whl (55 kB)\n",
            "\u001b[K     |████████████████████████████████| 55 kB 4.3 MB/s \n",
            "\u001b[?25hRequirement already satisfied: multidict<7.0,>=4.5 in /usr/local/lib/python3.7/dist-packages (from aiohttp->gradio) (6.0.2)\n",
            "Requirement already satisfied: asynctest==0.13.0 in /usr/local/lib/python3.7/dist-packages (from aiohttp->gradio) (0.13.0)\n",
            "Requirement already satisfied: attrs>=17.3.0 in /usr/local/lib/python3.7/dist-packages (from aiohttp->gradio) (22.1.0)\n",
            "Requirement already satisfied: frozenlist>=1.1.1 in /usr/local/lib/python3.7/dist-packages (from aiohttp->gradio) (1.3.1)\n",
            "Requirement already satisfied: async-timeout<5.0,>=4.0.0a3 in /usr/local/lib/python3.7/dist-packages (from aiohttp->gradio) (4.0.2)\n",
            "Requirement already satisfied: yarl<2.0,>=1.0 in /usr/local/lib/python3.7/dist-packages (from aiohttp->gradio) (1.8.1)\n",
            "Requirement already satisfied: charset-normalizer<3.0,>=2.0 in /usr/local/lib/python3.7/dist-packages (from aiohttp->gradio) (2.1.1)\n",
            "Requirement already satisfied: aiosignal>=1.1.2 in /usr/local/lib/python3.7/dist-packages (from aiohttp->gradio) (1.2.0)\n",
            "Requirement already satisfied: typing-extensions>=3.7.4 in /usr/local/lib/python3.7/dist-packages (from aiohttp->gradio) (4.1.1)\n",
            "Requirement already satisfied: idna>=2.0 in /usr/local/lib/python3.7/dist-packages (from yarl<2.0,>=1.0->aiohttp->gradio) (2.10)\n",
            "Requirement already satisfied: six>=1.5 in /usr/local/lib/python3.7/dist-packages (from analytics-python->gradio) (1.15.0)\n",
            "Collecting backoff==1.10.0\n",
            "  Downloading backoff-1.10.0-py2.py3-none-any.whl (31 kB)\n",
            "Collecting monotonic>=1.5\n",
            "  Downloading monotonic-1.6-py2.py3-none-any.whl (8.2 kB)\n",
            "Requirement already satisfied: python-dateutil>2.1 in /usr/local/lib/python3.7/dist-packages (from analytics-python->gradio) (2.8.2)\n",
            "Requirement already satisfied: chardet<4,>=3.0.2 in /usr/local/lib/python3.7/dist-packages (from requests->gradio) (3.0.4)\n",
            "Requirement already satisfied: certifi>=2017.4.17 in /usr/local/lib/python3.7/dist-packages (from requests->gradio) (2022.6.15)\n",
            "Requirement already satisfied: urllib3!=1.25.0,!=1.25.1,<1.26,>=1.21.1 in /usr/local/lib/python3.7/dist-packages (from requests->gradio) (1.24.3)\n",
            "Collecting starlette==0.20.4\n",
            "  Downloading starlette-0.20.4-py3-none-any.whl (63 kB)\n",
            "\u001b[K     |████████████████████████████████| 63 kB 2.8 MB/s \n",
            "\u001b[?25hCollecting anyio<5,>=3.4.0\n",
            "  Downloading anyio-3.6.1-py3-none-any.whl (80 kB)\n",
            "\u001b[K     |████████████████████████████████| 80 kB 11.1 MB/s \n",
            "\u001b[?25hCollecting sniffio>=1.1\n",
            "  Downloading sniffio-1.3.0-py3-none-any.whl (10 kB)\n",
            "Collecting httpcore<0.16.0,>=0.15.0\n",
            "  Downloading httpcore-0.15.0-py3-none-any.whl (68 kB)\n",
            "\u001b[K     |████████████████████████████████| 68 kB 6.9 MB/s \n",
            "\u001b[?25hCollecting rfc3986[idna2008]<2,>=1.3\n",
            "  Downloading rfc3986-1.5.0-py2.py3-none-any.whl (31 kB)\n",
            "Requirement already satisfied: MarkupSafe>=0.23 in /usr/local/lib/python3.7/dist-packages (from jinja2->gradio) (2.0.1)\n",
            "Collecting mdurl~=0.1\n",
            "  Downloading mdurl-0.1.2-py3-none-any.whl (10.0 kB)\n",
            "Collecting mdit-py-plugins\n",
            "  Downloading mdit_py_plugins-0.3.0-py3-none-any.whl (43 kB)\n",
            "\u001b[K     |████████████████████████████████| 43 kB 1.7 MB/s \n",
            "\u001b[?25hCollecting linkify-it-py~=1.0\n",
            "  Downloading linkify_it_py-1.0.3-py3-none-any.whl (19 kB)\n",
            "Collecting uc-micro-py\n",
            "  Downloading uc_micro_py-1.0.1-py3-none-any.whl (6.2 kB)\n",
            "Requirement already satisfied: cycler>=0.10 in /usr/local/lib/python3.7/dist-packages (from matplotlib->gradio) (0.11.0)\n",
            "Requirement already satisfied: kiwisolver>=1.0.1 in /usr/local/lib/python3.7/dist-packages (from matplotlib->gradio) (1.4.4)\n",
            "Requirement already satisfied: pyparsing!=2.0.4,!=2.1.2,!=2.1.6,>=2.0.1 in /usr/local/lib/python3.7/dist-packages (from matplotlib->gradio) (3.0.9)\n",
            "Requirement already satisfied: pytz>=2017.3 in /usr/local/lib/python3.7/dist-packages (from pandas->gradio) (2022.2.1)\n",
            "Collecting pynacl>=1.0.1\n",
            "  Downloading PyNaCl-1.5.0-cp36-abi3-manylinux_2_17_x86_64.manylinux2014_x86_64.manylinux_2_24_x86_64.whl (856 kB)\n",
            "\u001b[K     |████████████████████████████████| 856 kB 49.4 MB/s \n",
            "\u001b[?25hCollecting bcrypt>=3.1.3\n",
            "  Downloading bcrypt-4.0.0-cp36-abi3-manylinux_2_24_x86_64.whl (594 kB)\n",
            "\u001b[K     |████████████████████████████████| 594 kB 61.1 MB/s \n",
            "\u001b[?25hCollecting cryptography>=2.5\n",
            "  Downloading cryptography-38.0.1-cp36-abi3-manylinux_2_24_x86_64.whl (4.0 MB)\n",
            "\u001b[K     |████████████████████████████████| 4.0 MB 34.2 MB/s \n",
            "\u001b[?25hRequirement already satisfied: cffi>=1.12 in /usr/local/lib/python3.7/dist-packages (from cryptography>=2.5->paramiko->gradio) (1.15.1)\n",
            "Requirement already satisfied: pycparser in /usr/local/lib/python3.7/dist-packages (from cffi>=1.12->cryptography>=2.5->paramiko->gradio) (2.21)\n",
            "Requirement already satisfied: click>=7.0 in /usr/local/lib/python3.7/dist-packages (from uvicorn->gradio) (7.1.2)\n",
            "Building wheels for collected packages: ffmpy, python-multipart\n",
            "  Building wheel for ffmpy (setup.py) ... \u001b[?25l\u001b[?25hdone\n",
            "  Created wheel for ffmpy: filename=ffmpy-0.3.0-py3-none-any.whl size=4712 sha256=1086712cd79f147f3f4682d2e76ec84df2d74077e0fc7ea9202c3174250b9a51\n",
            "  Stored in directory: /root/.cache/pip/wheels/13/e4/6c/e8059816e86796a597c6e6b0d4c880630f51a1fcfa0befd5e6\n",
            "  Building wheel for python-multipart (setup.py) ... \u001b[?25l\u001b[?25hdone\n",
            "  Created wheel for python-multipart: filename=python_multipart-0.0.5-py3-none-any.whl size=31678 sha256=15042503dbc61f05ec5e21be2fb9db2509ed140a818681e3fb7d8467e6840e13\n",
            "  Stored in directory: /root/.cache/pip/wheels/2c/41/7c/bfd1c180534ffdcc0972f78c5758f89881602175d48a8bcd2c\n",
            "Successfully built ffmpy python-multipart\n",
            "Installing collected packages: sniffio, mdurl, uc-micro-py, rfc3986, markdown-it-py, h11, anyio, starlette, pynacl, monotonic, mdit-py-plugins, linkify-it-py, httpcore, cryptography, bcrypt, backoff, websockets, uvicorn, python-multipart, pydub, pycryptodome, paramiko, orjson, httpx, ffmpy, fastapi, analytics-python, gradio\n",
            "Successfully installed analytics-python-1.4.0 anyio-3.6.1 backoff-1.10.0 bcrypt-4.0.0 cryptography-38.0.1 fastapi-0.85.0 ffmpy-0.3.0 gradio-3.3.1 h11-0.12.0 httpcore-0.15.0 httpx-0.23.0 linkify-it-py-1.0.3 markdown-it-py-2.1.0 mdit-py-plugins-0.3.0 mdurl-0.1.2 monotonic-1.6 orjson-3.8.0 paramiko-2.11.0 pycryptodome-3.15.0 pydub-0.25.1 pynacl-1.5.0 python-multipart-0.0.5 rfc3986-1.5.0 sniffio-1.3.0 starlette-0.20.4 uc-micro-py-1.0.1 uvicorn-0.18.3 websockets-10.3\n",
            "Looking in indexes: https://pypi.org/simple, https://us-python.pkg.dev/colab-wheels/public/simple/\n",
            "Collecting transformers[sentencepiece]\n",
            "  Downloading transformers-4.22.0-py3-none-any.whl (4.9 MB)\n",
            "\u001b[K     |████████████████████████████████| 4.9 MB 6.8 MB/s \n",
            "\u001b[?25hRequirement already satisfied: pyyaml>=5.1 in /usr/local/lib/python3.7/dist-packages (from transformers[sentencepiece]) (6.0)\n",
            "Requirement already satisfied: tqdm>=4.27 in /usr/local/lib/python3.7/dist-packages (from transformers[sentencepiece]) (4.64.1)\n",
            "Requirement already satisfied: regex!=2019.12.17 in /usr/local/lib/python3.7/dist-packages (from transformers[sentencepiece]) (2022.6.2)\n",
            "Requirement already satisfied: importlib-metadata in /usr/local/lib/python3.7/dist-packages (from transformers[sentencepiece]) (4.12.0)\n",
            "Collecting huggingface-hub<1.0,>=0.9.0\n",
            "  Downloading huggingface_hub-0.9.1-py3-none-any.whl (120 kB)\n",
            "\u001b[K     |████████████████████████████████| 120 kB 67.6 MB/s \n",
            "\u001b[?25hCollecting tokenizers!=0.11.3,<0.13,>=0.11.1\n",
            "  Downloading tokenizers-0.12.1-cp37-cp37m-manylinux_2_12_x86_64.manylinux2010_x86_64.whl (6.6 MB)\n",
            "\u001b[K     |████████████████████████████████| 6.6 MB 42.5 MB/s \n",
            "\u001b[?25hRequirement already satisfied: requests in /usr/local/lib/python3.7/dist-packages (from transformers[sentencepiece]) (2.23.0)\n",
            "Requirement already satisfied: numpy>=1.17 in /usr/local/lib/python3.7/dist-packages (from transformers[sentencepiece]) (1.21.6)\n",
            "Requirement already satisfied: packaging>=20.0 in /usr/local/lib/python3.7/dist-packages (from transformers[sentencepiece]) (21.3)\n",
            "Requirement already satisfied: filelock in /usr/local/lib/python3.7/dist-packages (from transformers[sentencepiece]) (3.8.0)\n",
            "Requirement already satisfied: protobuf<=3.20.1 in /usr/local/lib/python3.7/dist-packages (from transformers[sentencepiece]) (3.17.3)\n",
            "Collecting sentencepiece!=0.1.92,>=0.1.91\n",
            "  Downloading sentencepiece-0.1.97-cp37-cp37m-manylinux_2_17_x86_64.manylinux2014_x86_64.whl (1.3 MB)\n",
            "\u001b[K     |████████████████████████████████| 1.3 MB 61.8 MB/s \n",
            "\u001b[?25hRequirement already satisfied: typing-extensions>=3.7.4.3 in /usr/local/lib/python3.7/dist-packages (from huggingface-hub<1.0,>=0.9.0->transformers[sentencepiece]) (4.1.1)\n",
            "Requirement already satisfied: pyparsing!=3.0.5,>=2.0.2 in /usr/local/lib/python3.7/dist-packages (from packaging>=20.0->transformers[sentencepiece]) (3.0.9)\n",
            "Requirement already satisfied: six>=1.9 in /usr/local/lib/python3.7/dist-packages (from protobuf<=3.20.1->transformers[sentencepiece]) (1.15.0)\n",
            "Requirement already satisfied: zipp>=0.5 in /usr/local/lib/python3.7/dist-packages (from importlib-metadata->transformers[sentencepiece]) (3.8.1)\n",
            "Requirement already satisfied: idna<3,>=2.5 in /usr/local/lib/python3.7/dist-packages (from requests->transformers[sentencepiece]) (2.10)\n",
            "Requirement already satisfied: chardet<4,>=3.0.2 in /usr/local/lib/python3.7/dist-packages (from requests->transformers[sentencepiece]) (3.0.4)\n",
            "Requirement already satisfied: certifi>=2017.4.17 in /usr/local/lib/python3.7/dist-packages (from requests->transformers[sentencepiece]) (2022.6.15)\n",
            "Requirement already satisfied: urllib3!=1.25.0,!=1.25.1,<1.26,>=1.21.1 in /usr/local/lib/python3.7/dist-packages (from requests->transformers[sentencepiece]) (1.24.3)\n",
            "Installing collected packages: tokenizers, huggingface-hub, transformers, sentencepiece\n",
            "Successfully installed huggingface-hub-0.9.1 sentencepiece-0.1.97 tokenizers-0.12.1 transformers-4.22.0\n",
            "Looking in indexes: https://pypi.org/simple, https://us-python.pkg.dev/colab-wheels/public/simple/\n",
            "Collecting note-seq\n",
            "  Downloading note_seq-0.0.5-py3-none-any.whl (209 kB)\n",
            "\u001b[K     |████████████████████████████████| 209 kB 8.6 MB/s \n",
            "\u001b[?25hRequirement already satisfied: librosa>=0.6.2 in /usr/local/lib/python3.7/dist-packages (from note-seq) (0.8.1)\n",
            "Collecting protobuf>=4.21.2\n",
            "  Downloading protobuf-4.21.6-cp37-abi3-manylinux2014_x86_64.whl (408 kB)\n",
            "\u001b[K     |████████████████████████████████| 408 kB 51.0 MB/s \n",
            "\u001b[?25hRequirement already satisfied: attrs in /usr/local/lib/python3.7/dist-packages (from note-seq) (22.1.0)\n",
            "Requirement already satisfied: IPython in /usr/local/lib/python3.7/dist-packages (from note-seq) (7.9.0)\n",
            "Requirement already satisfied: pydub in /usr/local/lib/python3.7/dist-packages (from note-seq) (0.25.1)\n",
            "Requirement already satisfied: intervaltree>=2.1.0 in /usr/local/lib/python3.7/dist-packages (from note-seq) (2.1.0)\n",
            "Requirement already satisfied: pandas>=0.18.1 in /usr/local/lib/python3.7/dist-packages (from note-seq) (1.3.5)\n",
            "Requirement already satisfied: bokeh>=0.12.0 in /usr/local/lib/python3.7/dist-packages (from note-seq) (2.3.3)\n",
            "Requirement already satisfied: numpy in /usr/local/lib/python3.7/dist-packages (from note-seq) (1.21.6)\n",
            "Requirement already satisfied: absl-py in /usr/local/lib/python3.7/dist-packages (from note-seq) (1.2.0)\n",
            "Collecting pretty-midi>=0.2.6\n",
            "  Downloading pretty_midi-0.2.9.tar.gz (5.6 MB)\n",
            "\u001b[K     |████████████████████████████████| 5.6 MB 43.1 MB/s \n",
            "\u001b[?25hRequirement already satisfied: scipy>=0.18.1 in /usr/local/lib/python3.7/dist-packages (from note-seq) (1.7.3)\n",
            "Requirement already satisfied: pillow>=7.1.0 in /usr/local/lib/python3.7/dist-packages (from bokeh>=0.12.0->note-seq) (7.1.2)\n",
            "Requirement already satisfied: tornado>=5.1 in /usr/local/lib/python3.7/dist-packages (from bokeh>=0.12.0->note-seq) (5.1.1)\n",
            "Requirement already satisfied: Jinja2>=2.9 in /usr/local/lib/python3.7/dist-packages (from bokeh>=0.12.0->note-seq) (2.11.3)\n",
            "Requirement already satisfied: packaging>=16.8 in /usr/local/lib/python3.7/dist-packages (from bokeh>=0.12.0->note-seq) (21.3)\n",
            "Requirement already satisfied: typing-extensions>=3.7.4 in /usr/local/lib/python3.7/dist-packages (from bokeh>=0.12.0->note-seq) (4.1.1)\n",
            "Requirement already satisfied: PyYAML>=3.10 in /usr/local/lib/python3.7/dist-packages (from bokeh>=0.12.0->note-seq) (6.0)\n",
            "Requirement already satisfied: python-dateutil>=2.1 in /usr/local/lib/python3.7/dist-packages (from bokeh>=0.12.0->note-seq) (2.8.2)\n",
            "Requirement already satisfied: sortedcontainers in /usr/local/lib/python3.7/dist-packages (from intervaltree>=2.1.0->note-seq) (2.4.0)\n",
            "Requirement already satisfied: MarkupSafe>=0.23 in /usr/local/lib/python3.7/dist-packages (from Jinja2>=2.9->bokeh>=0.12.0->note-seq) (2.0.1)\n",
            "Requirement already satisfied: joblib>=0.14 in /usr/local/lib/python3.7/dist-packages (from librosa>=0.6.2->note-seq) (1.1.0)\n",
            "Requirement already satisfied: scikit-learn!=0.19.0,>=0.14.0 in /usr/local/lib/python3.7/dist-packages (from librosa>=0.6.2->note-seq) (1.0.2)\n",
            "Requirement already satisfied: resampy>=0.2.2 in /usr/local/lib/python3.7/dist-packages (from librosa>=0.6.2->note-seq) (0.4.0)\n",
            "Requirement already satisfied: audioread>=2.0.0 in /usr/local/lib/python3.7/dist-packages (from librosa>=0.6.2->note-seq) (3.0.0)\n",
            "Requirement already satisfied: pooch>=1.0 in /usr/local/lib/python3.7/dist-packages (from librosa>=0.6.2->note-seq) (1.6.0)\n",
            "Requirement already satisfied: numba>=0.43.0 in /usr/local/lib/python3.7/dist-packages (from librosa>=0.6.2->note-seq) (0.56.2)\n",
            "Requirement already satisfied: soundfile>=0.10.2 in /usr/local/lib/python3.7/dist-packages (from librosa>=0.6.2->note-seq) (0.10.3.post1)\n",
            "Requirement already satisfied: decorator>=3.0.0 in /usr/local/lib/python3.7/dist-packages (from librosa>=0.6.2->note-seq) (4.4.2)\n",
            "Requirement already satisfied: llvmlite<0.40,>=0.39.0dev0 in /usr/local/lib/python3.7/dist-packages (from numba>=0.43.0->librosa>=0.6.2->note-seq) (0.39.1)\n",
            "Requirement already satisfied: setuptools<60 in /usr/local/lib/python3.7/dist-packages (from numba>=0.43.0->librosa>=0.6.2->note-seq) (57.4.0)\n",
            "Requirement already satisfied: importlib-metadata in /usr/local/lib/python3.7/dist-packages (from numba>=0.43.0->librosa>=0.6.2->note-seq) (4.12.0)\n",
            "Requirement already satisfied: pyparsing!=3.0.5,>=2.0.2 in /usr/local/lib/python3.7/dist-packages (from packaging>=16.8->bokeh>=0.12.0->note-seq) (3.0.9)\n",
            "Requirement already satisfied: pytz>=2017.3 in /usr/local/lib/python3.7/dist-packages (from pandas>=0.18.1->note-seq) (2022.2.1)\n",
            "Requirement already satisfied: requests>=2.19.0 in /usr/local/lib/python3.7/dist-packages (from pooch>=1.0->librosa>=0.6.2->note-seq) (2.23.0)\n",
            "Requirement already satisfied: appdirs>=1.3.0 in /usr/local/lib/python3.7/dist-packages (from pooch>=1.0->librosa>=0.6.2->note-seq) (1.4.4)\n",
            "Collecting mido>=1.1.16\n",
            "  Downloading mido-1.2.10-py2.py3-none-any.whl (51 kB)\n",
            "\u001b[K     |████████████████████████████████| 51 kB 8.4 MB/s \n",
            "\u001b[?25hRequirement already satisfied: six in /usr/local/lib/python3.7/dist-packages (from pretty-midi>=0.2.6->note-seq) (1.15.0)\n",
            "Requirement already satisfied: urllib3!=1.25.0,!=1.25.1,<1.26,>=1.21.1 in /usr/local/lib/python3.7/dist-packages (from requests>=2.19.0->pooch>=1.0->librosa>=0.6.2->note-seq) (1.24.3)\n",
            "Requirement already satisfied: certifi>=2017.4.17 in /usr/local/lib/python3.7/dist-packages (from requests>=2.19.0->pooch>=1.0->librosa>=0.6.2->note-seq) (2022.6.15)\n",
            "Requirement already satisfied: chardet<4,>=3.0.2 in /usr/local/lib/python3.7/dist-packages (from requests>=2.19.0->pooch>=1.0->librosa>=0.6.2->note-seq) (3.0.4)\n",
            "Requirement already satisfied: idna<3,>=2.5 in /usr/local/lib/python3.7/dist-packages (from requests>=2.19.0->pooch>=1.0->librosa>=0.6.2->note-seq) (2.10)\n",
            "Requirement already satisfied: threadpoolctl>=2.0.0 in /usr/local/lib/python3.7/dist-packages (from scikit-learn!=0.19.0,>=0.14.0->librosa>=0.6.2->note-seq) (3.1.0)\n",
            "Requirement already satisfied: cffi>=1.0 in /usr/local/lib/python3.7/dist-packages (from soundfile>=0.10.2->librosa>=0.6.2->note-seq) (1.15.1)\n",
            "Requirement already satisfied: pycparser in /usr/local/lib/python3.7/dist-packages (from cffi>=1.0->soundfile>=0.10.2->librosa>=0.6.2->note-seq) (2.21)\n",
            "Requirement already satisfied: zipp>=0.5 in /usr/local/lib/python3.7/dist-packages (from importlib-metadata->numba>=0.43.0->librosa>=0.6.2->note-seq) (3.8.1)\n",
            "Requirement already satisfied: traitlets>=4.2 in /usr/local/lib/python3.7/dist-packages (from IPython->note-seq) (5.1.1)\n",
            "Requirement already satisfied: pickleshare in /usr/local/lib/python3.7/dist-packages (from IPython->note-seq) (0.7.5)\n",
            "Collecting jedi>=0.10\n",
            "  Downloading jedi-0.18.1-py2.py3-none-any.whl (1.6 MB)\n",
            "\u001b[K     |████████████████████████████████| 1.6 MB 49.4 MB/s \n",
            "\u001b[?25hRequirement already satisfied: prompt-toolkit<2.1.0,>=2.0.0 in /usr/local/lib/python3.7/dist-packages (from IPython->note-seq) (2.0.10)\n",
            "Requirement already satisfied: pexpect in /usr/local/lib/python3.7/dist-packages (from IPython->note-seq) (4.8.0)\n",
            "Requirement already satisfied: backcall in /usr/local/lib/python3.7/dist-packages (from IPython->note-seq) (0.2.0)\n",
            "Requirement already satisfied: pygments in /usr/local/lib/python3.7/dist-packages (from IPython->note-seq) (2.6.1)\n",
            "Requirement already satisfied: parso<0.9.0,>=0.8.0 in /usr/local/lib/python3.7/dist-packages (from jedi>=0.10->IPython->note-seq) (0.8.3)\n",
            "Requirement already satisfied: wcwidth in /usr/local/lib/python3.7/dist-packages (from prompt-toolkit<2.1.0,>=2.0.0->IPython->note-seq) (0.2.5)\n",
            "Requirement already satisfied: ptyprocess>=0.5 in /usr/local/lib/python3.7/dist-packages (from pexpect->IPython->note-seq) (0.7.0)\n",
            "Building wheels for collected packages: pretty-midi\n",
            "  Building wheel for pretty-midi (setup.py) ... \u001b[?25l\u001b[?25hdone\n",
            "  Created wheel for pretty-midi: filename=pretty_midi-0.2.9-py3-none-any.whl size=5591955 sha256=e5bbe3366e5c6ae474aac15f0f57bb6d418c634faee539b71bdb028092e2d4fc\n",
            "  Stored in directory: /root/.cache/pip/wheels/ad/74/7c/a06473ca8dcb63efb98c1e67667ce39d52100f837835ea18fa\n",
            "Successfully built pretty-midi\n",
            "Installing collected packages: mido, jedi, protobuf, pretty-midi, note-seq\n",
            "  Attempting uninstall: protobuf\n",
            "    Found existing installation: protobuf 3.17.3\n",
            "    Uninstalling protobuf-3.17.3:\n",
            "      Successfully uninstalled protobuf-3.17.3\n",
            "\u001b[31mERROR: pip's dependency resolver does not currently take into account all the packages that are installed. This behaviour is the source of the following dependency conflicts.\n",
            "tensorflow 2.8.2+zzzcolab20220719082949 requires protobuf<3.20,>=3.9.2, but you have protobuf 4.21.6 which is incompatible.\n",
            "tensorflow-metadata 1.10.0 requires protobuf<4,>=3.13, but you have protobuf 4.21.6 which is incompatible.\n",
            "google-cloud-bigquery-storage 1.1.2 requires protobuf<4.0.0dev, but you have protobuf 4.21.6 which is incompatible.\n",
            "google-api-core 1.31.6 requires protobuf<4.0.0dev,>=3.12.0; python_version > \"3\", but you have protobuf 4.21.6 which is incompatible.\u001b[0m\n",
            "Successfully installed jedi-0.18.1 mido-1.2.10 note-seq-0.0.5 pretty-midi-0.2.9 protobuf-4.21.6\n",
            "Looking in indexes: https://pypi.org/simple, https://us-python.pkg.dev/colab-wheels/public/simple/\n",
            "Collecting protobuf==3.20.1\n",
            "  Downloading protobuf-3.20.1-cp37-cp37m-manylinux_2_5_x86_64.manylinux1_x86_64.whl (1.0 MB)\n",
            "\u001b[K     |████████████████████████████████| 1.0 MB 8.4 MB/s \n",
            "\u001b[?25hInstalling collected packages: protobuf\n",
            "  Attempting uninstall: protobuf\n",
            "    Found existing installation: protobuf 4.21.6\n",
            "    Uninstalling protobuf-4.21.6:\n",
            "      Successfully uninstalled protobuf-4.21.6\n",
            "\u001b[31mERROR: pip's dependency resolver does not currently take into account all the packages that are installed. This behaviour is the source of the following dependency conflicts.\n",
            "tensorflow 2.8.2+zzzcolab20220719082949 requires protobuf<3.20,>=3.9.2, but you have protobuf 3.20.1 which is incompatible.\n",
            "note-seq 0.0.5 requires protobuf>=4.21.2, but you have protobuf 3.20.1 which is incompatible.\u001b[0m\n",
            "Successfully installed protobuf-3.20.1\n"
          ]
        },
        {
          "output_type": "display_data",
          "data": {
            "application/vnd.colab-display-data+json": {
              "pip_warning": {
                "packages": [
                  "google"
                ]
              }
            }
          },
          "metadata": {}
        },
        {
          "output_type": "stream",
          "name": "stdout",
          "text": [
            "Looking in indexes: https://pypi.org/simple, https://us-python.pkg.dev/colab-wheels/public/simple/\n",
            "Collecting pyfluidsynth==1.3.0\n",
            "  Downloading pyFluidSynth-1.3.0-py3-none-any.whl (18 kB)\n",
            "Requirement already satisfied: numpy in /usr/local/lib/python3.7/dist-packages (from pyfluidsynth==1.3.0) (1.21.6)\n",
            "Installing collected packages: pyfluidsynth\n",
            "Successfully installed pyfluidsynth-1.3.0\n"
          ]
        }
      ],
      "source": [
        "!apt-get install -qq libfluidsynth1\n",
        "!pip install gradio\n",
        "!pip install transformers[sentencepiece]\n",
        "!pip install note-seq\n",
        "!pip install -U protobuf==3.20.1\n",
        "# Latest pyfluidsynth doesn't work correctly with pretty_midi synthesis.\n",
        "!pip install pyfluidsynth==1.3.0"
      ]
    },
    {
      "cell_type": "markdown",
      "metadata": {
        "id": "iSblal1cj0eE"
      },
      "source": [
        "## 5.1 Exploring the trained Mutopia Model"
      ]
    },
    {
      "cell_type": "markdown",
      "metadata": {
        "id": "N3_HzvblG2CM"
      },
      "source": [
        "Let's now check the Mutopia model. Here, you'll wrap the model in a text generation pipeline."
      ]
    },
    {
      "cell_type": "code",
      "execution_count": 2,
      "metadata": {
        "colab": {
          "base_uri": "https://localhost:8080/",
          "height": 333,
          "referenced_widgets": [
            "eaae4ec110bf4faf9ab619b596bb323a",
            "2720efbde9424920bfabb2ef1a018eff",
            "7280167d05bc4b0992a9f4e3ed2ae511",
            "7c0b735c98b14bc683027b13718bdc1a",
            "2f842609fea44cfab6b096c4c5832036",
            "215e11ed5e5749829be3748212d55542",
            "1d32d3fe88a94b5e98916c5b53135661",
            "c4f94e6bc72943378b8b2b55c8b430b3",
            "b05c7b19eaf84e00996aaee4bd1f42ae",
            "ea396ec4a7dd4c1aa3ee9ebe22802bf8",
            "d26fec41b14e47c4aa467200f150af54",
            "d8c737dc1d7547549abbe5d679554a68",
            "5a2ed9afcf014bb5b6106d8e8b3e90cb",
            "f6d470f427d54e87a50f495620400205",
            "55d37996498d4ed6a857f4c48c27a028",
            "ad11d25d5fdb42df92ac1f7f28ae8b8a",
            "9737a13b55684d0a9186272f301c3ccc",
            "084e7d01ded4495bbccc2a5a8f012cf9",
            "61c1f70f809f430abb8528e80c113693",
            "d651525ba8d146eba23547c5052c0596",
            "817598cafeae491abec48809717f2cf5",
            "a2d40f8eea804277acc93f721488be25",
            "061358b8911745669f84284aa318cc87",
            "5548f3328463484b8a07506b50bf792a",
            "06a9ff84cb7f4cd793c2580a8a9e9eb9",
            "b39884b10c8e47af9547932e2508de13",
            "bd86be8730d74aac933846739eb4da50",
            "9a6cabad8f1840b18ca1a82d579827d7",
            "c50ed4f2c86d4288a9824bb46411b46c",
            "0b504054ff43418998f3e421611decb1",
            "bd3c68abb34948fc84485bc6f7ce820b",
            "5787b1e84d7049678e59b502db25147d",
            "a186ac002da546f79f220ef9f06dd150",
            "40c63cf3ab894ab18b00d1c625ba4df4",
            "19153ada84f2437aae1a862ed6ad0805",
            "da463d4d242342cf902672b45e7863b8",
            "db52c2a5c6e644ca9986172518bbf2ae",
            "fbec452973914fe684601f1b2a64e4a5",
            "f4d8ea816c094223b4b61104e8430473",
            "f27dd9c3c40d4e19b5737a5a110d4a7a",
            "89af27118a474bcf962d113dcba792b4",
            "2aa1d370c1d847d9ab09fe2ab9944dbb",
            "c875ecc80c3546f4a618103b5809792a",
            "9490b69a5d2a4afc8f8418b6670a752b",
            "1fbf682956f243c79869a223fa348384",
            "f48279df06464077bafb3989fe4b8193",
            "4a15f042f83942f3bbbc582d3efc1652",
            "dd503426ed6a4b61b4cbad8ca099c937",
            "2b8003af080e4fbb8b54e977aa86d264",
            "8213ba1df1144869b64e6e74f892b9fc",
            "a95518916fd446cca7b71581c541626a",
            "8d63c2c05a874805b8a71cad2d9addb7",
            "739e8691811e4324847c905a46fba635",
            "f0dde797739a49ed98407a98e9cffa6e",
            "709021ab851f426aa29dd4e887113cc2",
            "085d5180f6e94c509ec9dd994faa790f",
            "5b1282574e284ce4b452c1f990d14276",
            "83e9055f1f3e48daad824cb1eef4b11e",
            "6f737f1454aa409c9e1ebd4e312576d0",
            "769546adfd584a508818096af6d41d9b",
            "87a95e921332492493b11271022c3b7b",
            "b97fb107dddb4cc0b7e358e57a90a4bc",
            "2eae892f87824a108bc4ca2ae0819017",
            "6e6c47969d6648da91d905adc3fc2cf9",
            "06f595173a0341ecb72477accda4f3f0",
            "9e62197ac1544e9cbd908e7d91debc0d"
          ]
        },
        "id": "aSHZlhoIF89o",
        "outputId": "dc12e7e7-30be-46fc-b9d1-d4f11a38b53b"
      },
      "outputs": [
        {
          "output_type": "stream",
          "name": "stderr",
          "text": [
            "The cache for model files in Transformers v4.22.0 has been updated. Migrating your old cache. This is a one-time only operation. You can interrupt this and resume the migration later on by calling `transformers.utils.move_cache()`.\n"
          ]
        },
        {
          "output_type": "stream",
          "name": "stdout",
          "text": [
            "Moving 0 files to the new cache system\n"
          ]
        },
        {
          "output_type": "display_data",
          "data": {
            "text/plain": [
              "0it [00:00, ?it/s]"
            ],
            "application/vnd.jupyter.widget-view+json": {
              "version_major": 2,
              "version_minor": 0,
              "model_id": "eaae4ec110bf4faf9ab619b596bb323a"
            }
          },
          "metadata": {}
        },
        {
          "output_type": "display_data",
          "data": {
            "text/plain": [
              "Downloading:   0%|          | 0.00/894 [00:00<?, ?B/s]"
            ],
            "application/vnd.jupyter.widget-view+json": {
              "version_major": 2,
              "version_minor": 0,
              "model_id": "d8c737dc1d7547549abbe5d679554a68"
            }
          },
          "metadata": {}
        },
        {
          "output_type": "display_data",
          "data": {
            "text/plain": [
              "Downloading:   0%|          | 0.00/345M [00:00<?, ?B/s]"
            ],
            "application/vnd.jupyter.widget-view+json": {
              "version_major": 2,
              "version_minor": 0,
              "model_id": "061358b8911745669f84284aa318cc87"
            }
          },
          "metadata": {}
        },
        {
          "output_type": "stream",
          "name": "stderr",
          "text": [
            "All model checkpoint layers were used when initializing TFGPT2LMHeadModel.\n",
            "\n",
            "All the layers of TFGPT2LMHeadModel were initialized from the model checkpoint at juancopi81/mutopia_guitar_mmm.\n",
            "If your task is similar to the task the model of the checkpoint was trained on, you can already use TFGPT2LMHeadModel for predictions without further training.\n"
          ]
        },
        {
          "output_type": "display_data",
          "data": {
            "text/plain": [
              "Downloading:   0%|          | 0.00/380 [00:00<?, ?B/s]"
            ],
            "application/vnd.jupyter.widget-view+json": {
              "version_major": 2,
              "version_minor": 0,
              "model_id": "40c63cf3ab894ab18b00d1c625ba4df4"
            }
          },
          "metadata": {}
        },
        {
          "output_type": "display_data",
          "data": {
            "text/plain": [
              "Downloading:   0%|          | 0.00/21.6k [00:00<?, ?B/s]"
            ],
            "application/vnd.jupyter.widget-view+json": {
              "version_major": 2,
              "version_minor": 0,
              "model_id": "1fbf682956f243c79869a223fa348384"
            }
          },
          "metadata": {}
        },
        {
          "output_type": "display_data",
          "data": {
            "text/plain": [
              "Downloading:   0%|          | 0.00/99.0 [00:00<?, ?B/s]"
            ],
            "application/vnd.jupyter.widget-view+json": {
              "version_major": 2,
              "version_minor": 0,
              "model_id": "085d5180f6e94c509ec9dd994faa790f"
            }
          },
          "metadata": {}
        }
      ],
      "source": [
        "from transformers import AutoTokenizer, TFGPT2LMHeadModel\n",
        "from transformers import pipeline\n",
        "\n",
        "mutopia_model = TFGPT2LMHeadModel.from_pretrained(\"juancopi81/mutopia_guitar_mmm\")\n",
        "mutopia_tokenizer = AutoTokenizer.from_pretrained(\"juancopi81/mutopia_guitar_mmm\")\n",
        "pipe = pipeline(\n",
        "    \"text-generation\", model=mutopia_model, tokenizer=mutopia_tokenizer, device=0\n",
        ")"
      ]
    },
    {
      "cell_type": "markdown",
      "metadata": {
        "id": "-E3XSc35HJUM"
      },
      "source": [
        "First, let's see the pipeline in action. For this example, you'll set the [time signature](https://en.wikipedia.org/wiki/Time_signature) to 4/4, [the BPM](https://en.wikipedia.org/wiki/Tempo) to 90, the density of the notes to 2 (more density equals more music events), and the first note to G2 (43 in MIDI number). These are the controllers that the user of the models will be able to change in the GUI."
      ]
    },
    {
      "cell_type": "code",
      "execution_count": 3,
      "metadata": {
        "colab": {
          "base_uri": "https://localhost:8080/"
        },
        "id": "jbPXpIwSHIlH",
        "outputId": "cd4ad622-90d1-4c7c-ad3b-da2272d83422"
      },
      "outputs": [
        {
          "output_type": "stream",
          "name": "stderr",
          "text": [
            "Setting `pad_token_id` to 0 (first `eos_token_id`) to generate sequence\n"
          ]
        },
        {
          "output_type": "stream",
          "name": "stdout",
          "text": [
            "PIECE_START TIME_SIGNATURE=4_4 BPM=90 TRACK_START INST=0 DENSITY=2 BAR_START NOTE_ON=43 NOTE_ON=55 NOTE_ON=52 NOTE_ON=48 TIME_DELTA=4.0 NOTE_OFF=43 NOTE_OFF=55 NOTE_OFF=52 NOTE_OFF=48 NOTE_ON=50 TIME_DELTA=2.0 NOTE_OFF=50 NOTE_ON=48 TIME_DELTA=2.0 NOTE_OFF=48 NOTE_ON=48 TIME_DELTA=2.0 NOTE_OFF=48 NOTE_ON=43 TIME_DELTA=2.0 NOTE_OFF=43 NOTE_ON=36 TIME_DELTA=4.0 NOTE_OFF=36 BAR_END BAR_START NOTE_ON=36 TIME_DELTA=4.0 NOTE_OFF=36 NOTE_ON=52 NOTE_ON=55 NOTE_ON=48 TIME_DELTA=4.0 NOTE_OFF=52 NOTE_OFF=55 NOTE_OFF=48 NOTE_ON=50 TIME_DELTA=2.0 NOTE_OFF=50 NOTE_ON=48 TIME_DELTA=2.0 NOTE_OFF=48 NOTE_ON=43 TIME_DELTA=2.0 NOTE_OFF=43 BAR_END BAR_START NOTE_ON=48 NOTE_ON=52 NOTE_ON=55 NOTE_ON=38 TIME_DELTA=4.0 NOTE_OFF=48 NOTE_OFF=52 NOTE_OFF=55 NOTE_OFF=38 NOTE_ON=36 TIME_DELTA=4.0 NOTE_OFF=36 NOTE_ON=50 TIME_DELTA=2.0 NOTE_OFF=50 NOTE_ON=48 TIME_DELTA=2.0 NOTE_OFF=48 NOTE_ON=43 TIME_DELTA=2.0 NOTE_OFF=43 BAR_END BAR_START NOTE_ON=45 TIME_DELTA=2.0 NOTE_OFF=45 NOTE_ON=48 TIME_DELTA=2.0 NOTE_OFF=48 NOTE_ON=45 TIME_DELTA=2.0 NOTE_OFF=45 NOTE_ON=33 TIME_DELTA=4.0 NOTE_OFF=33 NOTE_ON=33 TIME_DELTA=4.0 NOTE_OFF=33 BAR_END BAR_START NOTE_ON=38 NOTE_ON=29 TIME_DELTA=4.0 NOTE_OFF=38 NOTE_ON=43 NOTE_ON=31\n"
          ]
        }
      ],
      "source": [
        "seed = \"PIECE_START TIME_SIGNATURE=4_4 BPM=90 TRACK_START INST=0 DENSITY=2 BAR_START NOTE_ON=43\"\n",
        "piece = pipe(seed, max_length=100)[0][\"generated_text\"]\n",
        "print(piece)"
      ]
    },
    {
      "cell_type": "markdown",
      "source": [
        "## 5.2 Creating a first gradio demo "
      ],
      "metadata": {
        "id": "9m94e9lzMAHY"
      }
    },
    {
      "cell_type": "markdown",
      "source": [
        "You'll now define a function, using the Mutopia modal, that takes text as input and returns a sequence of tokens. These tokens are the music piece generated by the model. For this notebook, you'll allow a prediction of a maximum length of 250 tokens."
      ],
      "metadata": {
        "id": "gl9EM9orMVas"
      }
    },
    {
      "cell_type": "code",
      "source": [
        "def generate_guitar_piece(seed: str) -> str:\n",
        "  # Generate a maximum of 250 tokens\n",
        "  piece = pipe(seed, max_length=250)[0][\"generated_text\"]\n",
        "  return piece"
      ],
      "metadata": {
        "id": "iK6Ug6KHMyqV"
      },
      "execution_count": 4,
      "outputs": []
    },
    {
      "cell_type": "markdown",
      "source": [
        "You can create and launch a `Gradio Interface` using the function. To do this, you need to specify:\n",
        "\n",
        "\n",
        "*   The `function` that your interface will use (`generate_guitar_piece` in this case).\n",
        "*   The `inputs` of your interface. In this case, this `text` includes the time signature, the BPM, the density, and the first note of the piece that the model will generate. This text needs to be similar to the above (`seed`). As you can see, this is not very convenient for the user to enter the controllers for generating the music. Don't worry! We'll change this in a moment.\n",
        "*    The `outputs` of your interface. For now, your outputs will be just `text` (the tokens generated by the model). Later, you will change this to audio.\n",
        "\n",
        "You can then call the `launch()` method of the interface. For showing errors in Colab, you would set debug=true. For now, I'll put it to false, but feel free to change it to debug the code:"
      ],
      "metadata": {
        "id": "iCbyHUOxNp-5"
      }
    },
    {
      "cell_type": "code",
      "source": [
        "import gradio as gr\n",
        "\n",
        "iface = gr.Interface(\n",
        "    fn=generate_guitar_piece,\n",
        "    inputs=\"text\",\n",
        "    outputs=\"text\"\n",
        ")\n",
        "\n",
        "iface.launch(debug=False)"
      ],
      "metadata": {
        "colab": {
          "base_uri": "https://localhost:8080/",
          "height": 643
        },
        "id": "jdCD40SWNnkb",
        "outputId": "69ca768b-747e-44b3-c419-513ec0a49812"
      },
      "execution_count": 6,
      "outputs": [
        {
          "output_type": "stream",
          "name": "stdout",
          "text": [
            "Colab notebook detected. To show errors in colab notebook, set `debug=True` in `launch()`\n",
            "Running on public URL: https://11383.gradio.app\n",
            "\n",
            "This share link expires in 72 hours. For free permanent hosting, check out Spaces: https://huggingface.co/spaces\n"
          ]
        },
        {
          "output_type": "display_data",
          "data": {
            "text/plain": [
              "<IPython.core.display.HTML object>"
            ],
            "text/html": [
              "<div><iframe src=\"https://11383.gradio.app\" width=\"900\" height=\"500\" allow=\"autoplay; camera; microphone;\" frameborder=\"0\" allowfullscreen></iframe></div>"
            ]
          },
          "metadata": {}
        },
        {
          "output_type": "execute_result",
          "data": {
            "text/plain": [
              "(<gradio.routes.App at 0x7faf8b23a5d0>,\n",
              " 'http://127.0.0.1:7861/',\n",
              " 'https://11383.gradio.app')"
            ]
          },
          "metadata": {},
          "execution_count": 6
        }
      ]
    },
    {
      "cell_type": "markdown",
      "source": [
        "## 5.3 Improving the inputs user-experience"
      ],
      "metadata": {
        "id": "Y38u6JNTdyko"
      }
    },
    {
      "cell_type": "markdown",
      "source": [
        "You now have a nice gradio demo using the Mutopia Guitar Model. Still, it is not very convenient for the user to enter the input as tokens and receive a non-musical output. You'll change this! First, let's start by creating a more convenient way to input the controllers that will determine the generation of the guitar piece.\n",
        "\n",
        "For doing this, you will use some excellent components provided by gradio. Specifically, your user interface will use the `dropdown` and `slider` components. With the user's inputs, you'll create the `seed tex`t behind the scenes utilizing the function `create_seed`:"
      ],
      "metadata": {
        "id": "luAFNrO-edXg"
      }
    },
    {
      "cell_type": "code",
      "source": [
        "import gradio as gr\n",
        "\n",
        "# Feel free to change this, I am using only three notes here because the model \n",
        "# works better this way.\n",
        "notes = [\"G2\", \"C3\", \"E3\"]\n",
        "notes_to_midi = {\"G2\": 43, \"C3\": 48, \"E3\": 52}\n",
        "time_signatures = [\"4/4\", \"3/4\", \"2/4\", \"6/8\"]\n",
        "time_signature_to_tokens = {\"4/4\": \"4_4\", \"3/4\": \"3_4\", \"2/4\": \"2_4\", \"6/8\": \"6_8\"}\n",
        "\n",
        "# Helper function to create the string seed\n",
        "def create_seed(time_signature: str,\n",
        "                note: str,\n",
        "                bpm: int,\n",
        "                density: int) -> str:\n",
        "  \n",
        "  seed = (f\"PIECE_START TIME_SIGNATURE={time_signature_to_tokens[time_signature]} \"\n",
        "          f\"BPM={bpm} TRACK_START INST=0 DENSITY={density} \"\n",
        "          f\"BAR_START NOTE_ON={notes_to_midi[note]} \")\n",
        "  return seed\n",
        "          \n",
        "\n",
        "def generate_guitar_piece(time_signature: str,\n",
        "                          note: str,\n",
        "                          bpm: int,\n",
        "                          density: int) -> str:\n",
        "  seed = create_seed(time_signature, note, bpm, density)\n",
        "  piece = pipe(seed, max_length=250)[0][\"generated_text\"]\n",
        "  return piece\n",
        "\n",
        "iface = gr.Interface(\n",
        "  fn=generate_guitar_piece,\n",
        "  inputs = [\n",
        "    gr.Dropdown(time_signatures, value=\"4/4\"), \n",
        "    gr.Dropdown(notes, value=\"G2\"), \n",
        "    gr.Slider(minimum=60, maximum=140, step=5, value=80), \n",
        "    gr.Slider(minimum=0, maximum=5, step=1, value=2)\n",
        "  ],\n",
        "  outputs=\"text\"\n",
        ")\n",
        "\n",
        "iface.launch(debug=False)"
      ],
      "metadata": {
        "colab": {
          "base_uri": "https://localhost:8080/",
          "height": 643
        },
        "id": "T4P8VcaRe6P8",
        "outputId": "92e0a036-5aa0-46d4-8b31-1c644b8661ed"
      },
      "execution_count": 7,
      "outputs": [
        {
          "output_type": "stream",
          "name": "stdout",
          "text": [
            "Colab notebook detected. To show errors in colab notebook, set `debug=True` in `launch()`\n",
            "Running on public URL: https://18955.gradio.app\n",
            "\n",
            "This share link expires in 72 hours. For free permanent hosting, check out Spaces: https://huggingface.co/spaces\n"
          ]
        },
        {
          "output_type": "display_data",
          "data": {
            "text/plain": [
              "<IPython.core.display.HTML object>"
            ],
            "text/html": [
              "<div><iframe src=\"https://18955.gradio.app\" width=\"900\" height=\"500\" allow=\"autoplay; camera; microphone;\" frameborder=\"0\" allowfullscreen></iframe></div>"
            ]
          },
          "metadata": {}
        },
        {
          "output_type": "execute_result",
          "data": {
            "text/plain": [
              "(<gradio.routes.App at 0x7faf8b1b9d10>,\n",
              " 'http://127.0.0.1:7862/',\n",
              " 'https://18955.gradio.app')"
            ]
          },
          "metadata": {},
          "execution_count": 7
        }
      ]
    },
    {
      "cell_type": "markdown",
      "source": [
        "## 5.4 Creating the outputs of the model"
      ],
      "metadata": {
        "id": "Yh6cwICwLY15"
      }
    },
    {
      "cell_type": "markdown",
      "source": [
        "Getting tokens as output is not what you want for your user. So in this part, you'll change the output to be actual music!"
      ],
      "metadata": {
        "id": "k_vyqxrXLdio"
      }
    },
    {
      "cell_type": "markdown",
      "source": [
        "### Helper functions"
      ],
      "metadata": {
        "id": "e9u_1zASRYrm"
      }
    },
    {
      "cell_type": "markdown",
      "source": [
        "First, you'll add some helper functions to convert the tokens into audio. This is mainly taken from [Dr. Tristan Beheren's notebook](https://huggingface.co/TristanBehrens/js-fakes-4bars/blob/main/colab_jsfakes_generation.ipynb) and the adaptation made by [Omar Sanseviero](https://www.linkedin.com/in/omarsanseviero/) in [this space](https://huggingface.co/spaces/osanseviero/gpt2_for_music).\n",
        "\n",
        "I further adapted these helper functions to meet the needs of the outputs presented to the users."
      ],
      "metadata": {
        "id": "CWhR78irRXCg"
      }
    },
    {
      "cell_type": "code",
      "source": [
        "import note_seq\n",
        "import copy\n",
        "\n",
        "# Value of BPM for 1 second\n",
        "BPM_1_SECOND = 60\n",
        "\n",
        "# Variables to change based on the time signature\n",
        "numerator = \"\"\n",
        "denominator = \"\"\n",
        "\n",
        "def token_sequence_to_note_sequence(token_sequence, \n",
        "                                    use_program=True, \n",
        "                                    use_drums=False, \n",
        "                                    instrument_mapper=None, \n",
        "                                    only_guitar=True):\n",
        "\n",
        "    if isinstance(token_sequence, str):\n",
        "        token_sequence = token_sequence.split()\n",
        "\n",
        "    note_sequence = empty_note_sequence()\n",
        "\n",
        "    # Render all notes.\n",
        "    current_program = 1\n",
        "    current_is_drum = False\n",
        "    current_instrument = 0\n",
        "    track_count = 0\n",
        "    for token_index, token in enumerate(token_sequence):\n",
        "\n",
        "        if token == \"PIECE_START\":\n",
        "            pass\n",
        "        elif token == \"PIECE_END\":\n",
        "            print(\"The end.\")\n",
        "            break\n",
        "        elif token.startswith(\"TIME_SIGNATURE=\"):\n",
        "            time_signature_str = token.split(\"=\")[-1]\n",
        "            numerator = int(time_signature_str.split(\"_\")[0])\n",
        "            denominator = int(time_signature_str.split(\"_\")[-1])\n",
        "            time_signature = note_sequence.time_signatures.add()\n",
        "            time_signature.numerator = numerator\n",
        "            time_signature.denominator = denominator\n",
        "        elif token.startswith(\"BPM=\"):\n",
        "            bpm_str = token.split(\"=\")[-1]\n",
        "            bpm = int(bpm_str)\n",
        "            note_sequence.tempos[0].qpm = bpm\n",
        "            pulse_duration, bar_duration = duration_in_sec(\n",
        "                bpm, numerator, denominator\n",
        "            )\n",
        "        elif token == \"TRACK_START\":\n",
        "            current_bar_index = 0\n",
        "            track_count += 1\n",
        "            pass\n",
        "        elif token == \"TRACK_END\":\n",
        "            pass\n",
        "        elif token == \"KEYS_START\":\n",
        "            pass\n",
        "        elif token == \"KEYS_END\":\n",
        "            pass\n",
        "        elif token.startswith(\"KEY=\"):\n",
        "            pass\n",
        "        elif token.startswith(\"INST\"):\n",
        "            instrument = token.split(\"=\")[-1]\n",
        "            if instrument != \"DRUMS\" and use_program:\n",
        "                if instrument_mapper is not None:\n",
        "                    if instrument in instrument_mapper:\n",
        "                        instrument = instrument_mapper[instrument]\n",
        "                current_program = int(instrument)\n",
        "                current_instrument = track_count\n",
        "                current_is_drum = False\n",
        "            if instrument == \"DRUMS\" and use_drums:\n",
        "                current_instrument = 0\n",
        "                current_program = 0\n",
        "                current_is_drum = True\n",
        "        elif token == \"BAR_START\":\n",
        "            current_time = (current_bar_index * bar_duration)\n",
        "            current_notes = {}\n",
        "        elif token == \"BAR_END\":\n",
        "            current_bar_index += 1\n",
        "            pass\n",
        "        elif token.startswith(\"NOTE_ON\"):\n",
        "            pitch = int(token.split(\"=\")[-1])\n",
        "            note = note_sequence.notes.add()\n",
        "            note.start_time = current_time\n",
        "            note.end_time = current_time + denominator * pulse_duration\n",
        "            note.pitch = pitch\n",
        "            note.instrument = current_instrument\n",
        "            note.program = current_program\n",
        "            note.velocity = 80\n",
        "            note.is_drum = current_is_drum\n",
        "            current_notes[pitch] = note\n",
        "        elif token.startswith(\"NOTE_OFF\"):\n",
        "            pitch = int(token.split(\"=\")[-1])\n",
        "            if pitch in current_notes:\n",
        "                note = current_notes[pitch]\n",
        "                note.end_time = current_time\n",
        "        elif token.startswith(\"TIME_DELTA\"):\n",
        "            delta = float(token.split(\"=\")[-1]) * (0.25) * pulse_duration\n",
        "            current_time += delta\n",
        "        elif token.startswith(\"DENSITY=\"):\n",
        "            pass\n",
        "        elif token == \"[PAD]\":\n",
        "            pass\n",
        "        else:\n",
        "            #print(f\"Ignored token {token}.\")\n",
        "            pass\n",
        "\n",
        "    # Make the instruments right.\n",
        "    instruments_drums = []\n",
        "    for note in note_sequence.notes:\n",
        "        pair = [note.program, note.is_drum]\n",
        "        if pair not in instruments_drums:\n",
        "            instruments_drums += [pair]\n",
        "        note.instrument = instruments_drums.index(pair)\n",
        "\n",
        "    if only_guitar:\n",
        "        for note in note_sequence.notes:\n",
        "            if not note.is_drum:\n",
        "                # Midi number for guitar is 23\n",
        "                note.instrument = 24\n",
        "                note.program = 24\n",
        "\n",
        "    return note_sequence\n",
        "\n",
        "# Calculate the duration in seconds of pulse and bar\n",
        "def duration_in_sec(bpm, numerator, denominator):\n",
        "    pulse_duration = BPM_1_SECOND / bpm\n",
        "    number_of_quarters_per_bar = (4 / denominator) * numerator\n",
        "    bar_duration = pulse_duration * number_of_quarters_per_bar\n",
        "    return pulse_duration, bar_duration\n",
        "\n",
        "def empty_note_sequence(qpm=120, total_time=0.0):\n",
        "    note_sequence = note_seq.protobuf.music_pb2.NoteSequence()\n",
        "    note_sequence.tempos.add().qpm = qpm\n",
        "    #note_sequence.ticks_per_quarter = note_seq.constants.STANDARD_PPQ\n",
        "    note_sequence.total_time = total_time\n",
        "    return note_sequence"
      ],
      "metadata": {
        "id": "_obvnKF7Q0M1"
      },
      "execution_count": 8,
      "outputs": []
    },
    {
      "cell_type": "markdown",
      "source": [
        "Let's now use these helper functions in our interface. After generating the tokens, you'll convert them to a [magenta note-sequence](https://github.com/magenta/note-seq). With this `note-sequence object`, you'll create audio that users can listen to.\n",
        "\n",
        "Notice that the Gradio's `Audio` output component can automatically render a tuple with a `sample rate` and `NumPy array` of data as a playable audio file:"
      ],
      "metadata": {
        "id": "DdCAYHo_Rd_B"
      }
    },
    {
      "cell_type": "code",
      "source": [
        "import gradio as gr\n",
        "import numpy as np\n",
        "\n",
        "SAMPLE_RATE=44100\n",
        "\n",
        "# Feel free to change this, I am using only three notes here because the model \n",
        "# works better this way.\n",
        "notes = [\"G2\", \"C3\", \"E3\"]\n",
        "notes_to_midi = {\"G2\": 43, \"C3\": 48, \"E3\": 52}\n",
        "time_signatures = [\"4/4\", \"3/4\", \"2/4\", \"6/8\"]\n",
        "time_signature_to_tokens = {\"4/4\": \"4_4\", \"3/4\": \"3_4\", \"2/4\": \"2_4\", \"6/8\": \"6_8\"}\n",
        "\n",
        "# Helper function to create the string seed\n",
        "def create_seed(time_signature: str,\n",
        "                note: str,\n",
        "                bpm: int,\n",
        "                density: int) -> str:\n",
        "  \n",
        "  seed = (f\"PIECE_START TIME_SIGNATURE={time_signature_to_tokens[time_signature]} \"\n",
        "          f\"BPM={bpm} TRACK_START INST=0 DENSITY={density} \"\n",
        "          f\"BAR_START NOTE_ON={notes_to_midi[note]} \")\n",
        "  return seed\n",
        "          \n",
        "\n",
        "def generate_guitar_piece(time_signature: str,\n",
        "                          note: str,\n",
        "                          bpm: int,\n",
        "                          density: int) -> str:\n",
        "  seed = create_seed(time_signature, note, bpm, density)\n",
        "  piece = pipe(seed, max_length=250)[0][\"generated_text\"]\n",
        "  \n",
        "  # Convert text of notes to audio\n",
        "  note_sequence = token_sequence_to_note_sequence(piece)\n",
        "  synth = note_seq.midi_synth.fluidsynth\n",
        "  array_of_floats = synth(note_sequence, sample_rate=SAMPLE_RATE)\n",
        "  int16_data = note_seq.audio_io.float_samples_to_int16(array_of_floats)\n",
        "  return SAMPLE_RATE, int16_data\n",
        "\n",
        "\n",
        "iface = gr.Interface(\n",
        "  fn=generate_guitar_piece,\n",
        "  inputs = [\n",
        "    gr.Dropdown(time_signatures, value=\"4/4\"), \n",
        "    gr.Dropdown(notes, value=\"G2\"), \n",
        "    gr.Slider(minimum=60, maximum=140, step=10, value=80), \n",
        "    gr.Slider(minimum=0, maximum=5, step=1, value=2)\n",
        "  ],\n",
        "  outputs=\"audio\"\n",
        ")\n",
        "\n",
        "iface.launch(debug=False)"
      ],
      "metadata": {
        "colab": {
          "base_uri": "https://localhost:8080/",
          "height": 643
        },
        "id": "eqVKn9uZR_1J",
        "outputId": "d9ba264c-79b1-42b3-90f1-511da739614b"
      },
      "execution_count": 9,
      "outputs": [
        {
          "output_type": "stream",
          "name": "stdout",
          "text": [
            "Colab notebook detected. To show errors in colab notebook, set `debug=True` in `launch()`\n",
            "Running on public URL: https://12528.gradio.app\n",
            "\n",
            "This share link expires in 72 hours. For free permanent hosting, check out Spaces: https://huggingface.co/spaces\n"
          ]
        },
        {
          "output_type": "display_data",
          "data": {
            "text/plain": [
              "<IPython.core.display.HTML object>"
            ],
            "text/html": [
              "<div><iframe src=\"https://12528.gradio.app\" width=\"900\" height=\"500\" allow=\"autoplay; camera; microphone;\" frameborder=\"0\" allowfullscreen></iframe></div>"
            ]
          },
          "metadata": {}
        },
        {
          "output_type": "execute_result",
          "data": {
            "text/plain": [
              "(<gradio.routes.App at 0x7faf7b8b7810>,\n",
              " 'http://127.0.0.1:7863/',\n",
              " 'https://12528.gradio.app')"
            ]
          },
          "metadata": {},
          "execution_count": 9
        }
      ]
    },
    {
      "cell_type": "markdown",
      "source": [
        "## 5.5 Polishing the Gradio demo"
      ],
      "metadata": {
        "id": "RzRLGgEqO7oR"
      }
    },
    {
      "cell_type": "markdown",
      "source": [
        "To finish your Gradio demo, you can beautify it with some elements that the `Interface` class supports. Here, you'll add a title, a description, and an article to your demo. The description and article can use `text`, `markdown`, or `HTML`. Check the next cell to see how to do this:"
      ],
      "metadata": {
        "id": "5HfLp2EWPNY0"
      }
    },
    {
      "cell_type": "code",
      "source": [
        "import gradio as gr\n",
        "import numpy as np\n",
        "\n",
        "SAMPLE_RATE=44100\n",
        "\n",
        "# Feel free to change this, I am using only three notes here because the model \n",
        "# works better this way.\n",
        "notes = [\"G2\", \"C3\", \"E3\"]\n",
        "notes_to_midi = {\"G2\": 43, \"C3\": 48, \"E3\": 52}\n",
        "time_signatures = [\"4/4\", \"3/4\", \"2/4\", \"6/8\"]\n",
        "time_signature_to_tokens = {\"4/4\": \"4_4\", \"3/4\": \"3_4\", \"2/4\": \"2_4\", \"6/8\": \"6_8\"}\n",
        "\n",
        "# Content for your demo:\n",
        "title = \"Mutopia Guitar Composer\"\n",
        "# I am adding here an image that I generated using DALL-E\n",
        "description = \"\"\"\n",
        "The bot was trained to compose guitar music using the \n",
        "[Mutopia Guitar Dataset](https://huggingface.co/datasets/juancopi81/mutopia_guitar_dataset). \n",
        "Change the controllers and receive a new guitar piece!\n",
        "<center><img src=\"https://drive.google.com/uc?export=view&id=1F22ofTCeJAHqVag4lJvBZugAE1OyabVA\" \n",
        "width=200px alt=\"Robot playing the guitar\"></center>\n",
        "\"\"\"\n",
        "article = \"\"\"\n",
        "For a complete tutorial on how to create this demo from scratch, check out this\n",
        "[GitHub Repo](https://github.com/juancopi81/MMM_Mutopia_Guitar).\n",
        "\"\"\"\n",
        "\n",
        "# Helper function to create the string seed\n",
        "def create_seed(time_signature: str,\n",
        "                note: str,\n",
        "                bpm: int,\n",
        "                density: int) -> str:\n",
        "  \n",
        "  seed = (f\"PIECE_START TIME_SIGNATURE={time_signature_to_tokens[time_signature]} \"\n",
        "          f\"BPM={bpm} TRACK_START INST=0 DENSITY={density} \"\n",
        "          f\"BAR_START NOTE_ON={notes_to_midi[note]} \")\n",
        "  return seed\n",
        "          \n",
        "\n",
        "def generate_guitar_piece(time_signature: str,\n",
        "                          note: str,\n",
        "                          bpm: int,\n",
        "                          density: int) -> str:\n",
        "  seed = create_seed(time_signature, note, bpm, density)\n",
        "  piece = pipe(seed, max_length=250)[0][\"generated_text\"]\n",
        "  \n",
        "  # Convert text of notes to audio\n",
        "  note_sequence = token_sequence_to_note_sequence(piece)\n",
        "  synth = note_seq.midi_synth.fluidsynth\n",
        "  array_of_floats = synth(note_sequence, sample_rate=SAMPLE_RATE)\n",
        "  int16_data = note_seq.audio_io.float_samples_to_int16(array_of_floats)\n",
        "  return SAMPLE_RATE, int16_data\n",
        "\n",
        "\n",
        "iface = gr.Interface(\n",
        "  fn=generate_guitar_piece,\n",
        "  inputs = [\n",
        "    gr.Dropdown(time_signatures, value=\"4/4\"), \n",
        "    gr.Dropdown(notes, value=\"G2\"), \n",
        "    gr.Slider(minimum=60, maximum=140, step=10, value=80), \n",
        "    gr.Slider(minimum=0, maximum=5, step=1, value=2)\n",
        "  ],\n",
        "  outputs=\"audio\",\n",
        "  # Here you can add the new content defined above\n",
        "  title=title,\n",
        "  description=description,\n",
        "  article=article\n",
        ")\n",
        "\n",
        "iface.launch(debug=False)"
      ],
      "metadata": {
        "colab": {
          "base_uri": "https://localhost:8080/",
          "height": 643
        },
        "id": "1lB3ZgX7PM2A",
        "outputId": "27a95d7c-d6db-43ec-ec77-81a7e0feb4d6"
      },
      "execution_count": 10,
      "outputs": [
        {
          "output_type": "stream",
          "name": "stdout",
          "text": [
            "Colab notebook detected. To show errors in colab notebook, set `debug=True` in `launch()`\n",
            "Running on public URL: https://28379.gradio.app\n",
            "\n",
            "This share link expires in 72 hours. For free permanent hosting, check out Spaces: https://huggingface.co/spaces\n"
          ]
        },
        {
          "output_type": "display_data",
          "data": {
            "text/plain": [
              "<IPython.core.display.HTML object>"
            ],
            "text/html": [
              "<div><iframe src=\"https://28379.gradio.app\" width=\"900\" height=\"500\" allow=\"autoplay; camera; microphone;\" frameborder=\"0\" allowfullscreen></iframe></div>"
            ]
          },
          "metadata": {}
        },
        {
          "output_type": "execute_result",
          "data": {
            "text/plain": [
              "(<gradio.routes.App at 0x7faf942d0150>,\n",
              " 'http://127.0.0.1:7864/',\n",
              " 'https://28379.gradio.app')"
            ]
          },
          "metadata": {},
          "execution_count": 10
        }
      ]
    },
    {
      "cell_type": "markdown",
      "source": [
        "You have now a complete Gradio demo that you can share with others using [Spaces](https://huggingface.co/spaces). You'll see how to do this later! \n",
        "\n",
        "But before that, let's see how you can have even more control over your demo using Gradio Blocks."
      ],
      "metadata": {
        "id": "C95ghJgqYGFY"
      }
    },
    {
      "cell_type": "markdown",
      "source": [
        "## 5.6 Using Gradio Blocks for your demo"
      ],
      "metadata": {
        "id": "p2H2GVFgZiep"
      }
    },
    {
      "cell_type": "markdown",
      "source": [
        "In comparison to `Interface`, `Gradio Blocks` is a low-level API that \"*that allows you to have full control over the data flows and layout of your application. You can build very complex, multi-step applications using Blocks (as in “building blocks”)*.\"\n",
        "\n",
        "To use Blocks, you need to create a Block object and use it as a context (\"with\" statement). Inside the \"with\" statement, you can add components and define your layout.\n",
        "\n",
        "To better understand blocks, let's create a similar demo as the one you made with `Interface` but this time using `Gradio Blocks`.\n",
        "\n",
        "You'll create the demo's title, description, and article in the next cell. Then, you'll call the `launch()` method to start your demo."
      ],
      "metadata": {
        "id": "H_bOpen1Znyy"
      }
    },
    {
      "cell_type": "code",
      "source": [
        "import gradio as gr\n",
        "\n",
        "# Content for your demo:\n",
        "title = \"Mutopia Guitar Composer\"\n",
        "# I am adding here an image that I generated using DALL-E\n",
        "description = \"\"\"\n",
        "The bot was trained to compose guitar music using the \n",
        "[Mutopia Guitar Dataset](https://huggingface.co/datasets/juancopi81/mutopia_guitar_dataset). \n",
        "Change the controllers and receive a new guitar piece!\n",
        "<center><img src=\"https://drive.google.com/uc?export=view&id=1F22ofTCeJAHqVag4lJvBZugAE1OyabVA\" \n",
        "width=200px alt=\"Robot playing the guitar\"></center>\n",
        "\"\"\"\n",
        "article = \"\"\"\n",
        "For a complete tutorial on how to create this demo from scratch, check out this\n",
        "[GitHub Repo](https://github.com/juancopi81/MMM_Mutopia_Guitar).\n",
        "\"\"\"\n",
        "\n",
        "# Create a block object\n",
        "demo = gr.Blocks()\n",
        "\n",
        "# Use your Block object as a context\n",
        "with demo:\n",
        "  gr.Markdown(\"<h1 style='text-align: center; margin-bottom: 1rem'>\" \n",
        "              + title \n",
        "              + \"</h1>\")\n",
        "  gr.Markdown(description)\n",
        "  gr.Markdown(\"<center>\" \n",
        "              + article\n",
        "              + \"</center>\")\n",
        "\n",
        "# Launch your demo\n",
        "demo.launch()\n"
      ],
      "metadata": {
        "colab": {
          "base_uri": "https://localhost:8080/",
          "height": 643
        },
        "id": "OnZ7uNQUcolB",
        "outputId": "02054a25-d355-4fe1-fd2c-3429844a36e4"
      },
      "execution_count": 11,
      "outputs": [
        {
          "output_type": "stream",
          "name": "stdout",
          "text": [
            "Colab notebook detected. To show errors in colab notebook, set `debug=True` in `launch()`\n",
            "Running on public URL: https://24002.gradio.app\n",
            "\n",
            "This share link expires in 72 hours. For free permanent hosting, check out Spaces: https://huggingface.co/spaces\n"
          ]
        },
        {
          "output_type": "display_data",
          "data": {
            "text/plain": [
              "<IPython.core.display.HTML object>"
            ],
            "text/html": [
              "<div><iframe src=\"https://24002.gradio.app\" width=\"900\" height=\"500\" allow=\"autoplay; camera; microphone;\" frameborder=\"0\" allowfullscreen></iframe></div>"
            ]
          },
          "metadata": {}
        },
        {
          "output_type": "execute_result",
          "data": {
            "text/plain": [
              "(<gradio.routes.App at 0x7faf975153d0>,\n",
              " 'http://127.0.0.1:7865/',\n",
              " 'https://24002.gradio.app')"
            ]
          },
          "metadata": {},
          "execution_count": 11
        }
      ]
    },
    {
      "cell_type": "markdown",
      "source": [
        "This is great! You should start noticing the power and flexibility of Blocks. \n",
        "\n",
        "To help you create better layouts, Blocks provides you with different tools. Let's use `gradio.Column()` and `gradio.Row()` to improve the UI of the controllers of the model."
      ],
      "metadata": {
        "id": "mcvHgWCpeOC2"
      }
    },
    {
      "cell_type": "code",
      "source": [
        "import gradio as gr\n",
        "\n",
        "# Content for your demo:\n",
        "title = \"Mutopia Guitar Composer\"\n",
        "# I am adding here an image that I generated using DALL-E\n",
        "description = \"\"\"\n",
        "The bot was trained to compose guitar music using the \n",
        "[Mutopia Guitar Dataset](https://huggingface.co/datasets/juancopi81/mutopia_guitar_dataset). \n",
        "Change the controllers and receive a new guitar piece!\n",
        "<center><img src=\"https://drive.google.com/uc?export=view&id=1F22ofTCeJAHqVag4lJvBZugAE1OyabVA\" \n",
        "width=200px alt=\"Robot playing the guitar\"></center>\n",
        "\"\"\"\n",
        "article = \"\"\"\n",
        "For a complete tutorial on how to create this demo from scratch, check out this\n",
        "[GitHub Repo](https://github.com/juancopi81/MMM_Mutopia_Guitar).\n",
        "\"\"\"\n",
        "\n",
        "# Create a block object\n",
        "demo = gr.Blocks()\n",
        "\n",
        "# Use your Block object as a context\n",
        "with demo:\n",
        "  gr.Markdown(\"<h1 style='text-align: center; margin-bottom: 1rem'>\" \n",
        "              + title \n",
        "              + \"</h1>\")\n",
        "  gr.Markdown(description)\n",
        "\n",
        "  # UI for the inputs of the model\n",
        "  gr.Markdown(\"Select the params for generating your guitar piece.\")\n",
        "  with gr.Row():\n",
        "    time_signature = gr.Dropdown(time_signatures, value=\"4/4\", label=\"Time signature\") \n",
        "    note = gr.Dropdown(notes, value=\"G2\", label=\"First note\")\n",
        "    bpm = gr.Slider(minimum=60, maximum=140, step=10, value=80, label=\"Tempo\") \n",
        "    density = gr.Slider(minimum=0, maximum=5, step=1, value=2, label=\"Density\")\n",
        "  with gr.Row():\n",
        "    btn = gr.Button(\"Compose\")\n",
        "\n",
        "  gr.Markdown(\"<center>\" \n",
        "              + article\n",
        "              + \"</center>\")\n",
        "\n",
        "# Launch your demo\n",
        "demo.launch(debug=False)"
      ],
      "metadata": {
        "colab": {
          "base_uri": "https://localhost:8080/",
          "height": 643
        },
        "id": "0cYMcg0he3jt",
        "outputId": "20e40954-64e2-4ef2-ac54-cacc35c68f84"
      },
      "execution_count": 12,
      "outputs": [
        {
          "output_type": "stream",
          "name": "stdout",
          "text": [
            "Colab notebook detected. To show errors in colab notebook, set `debug=True` in `launch()`\n",
            "Running on public URL: https://12077.gradio.app\n",
            "\n",
            "This share link expires in 72 hours. For free permanent hosting, check out Spaces: https://huggingface.co/spaces\n"
          ]
        },
        {
          "output_type": "display_data",
          "data": {
            "text/plain": [
              "<IPython.core.display.HTML object>"
            ],
            "text/html": [
              "<div><iframe src=\"https://12077.gradio.app\" width=\"900\" height=\"500\" allow=\"autoplay; camera; microphone;\" frameborder=\"0\" allowfullscreen></iframe></div>"
            ]
          },
          "metadata": {}
        },
        {
          "output_type": "execute_result",
          "data": {
            "text/plain": [
              "(<gradio.routes.App at 0x7faf9459db90>,\n",
              " 'http://127.0.0.1:7866/',\n",
              " 'https://12077.gradio.app')"
            ]
          },
          "metadata": {},
          "execution_count": 12
        }
      ]
    },
    {
      "cell_type": "markdown",
      "source": [
        "You'll add the audio output to your demo in the next cell. To do this, you need to do two more things: \n",
        "\n",
        "*   First, create an audio elemente to your demo (`audio_output = gr.Audio()`)\n",
        "*   And then, add the function you've been using when someone clicks your button (`btn.click`), specifying the inputs and outputs of this function.\n",
        "\n",
        "Let's see this in action:"
      ],
      "metadata": {
        "id": "DNp1MVNFnKjY"
      }
    },
    {
      "cell_type": "code",
      "source": [
        "import gradio as gr\n",
        "\n",
        "SAMPLE_RATE=44100\n",
        "\n",
        "# Feel free to change this, I am using only three notes here because the model \n",
        "# works better this way.\n",
        "notes = [\"G2\", \"C3\", \"E3\"]\n",
        "notes_to_midi = {\"G2\": 43, \"C3\": 48, \"E3\": 52}\n",
        "time_signatures = [\"4/4\", \"3/4\", \"2/4\", \"6/8\"]\n",
        "time_signature_to_tokens = {\"4/4\": \"4_4\", \"3/4\": \"3_4\", \"2/4\": \"2_4\", \"6/8\": \"6_8\"}\n",
        "\n",
        "\n",
        "# Content for your demo:\n",
        "title = \"Mutopia Guitar Composer\"\n",
        "# I am adding here an image that I generated using DALL-E\n",
        "description = \"\"\"\n",
        "The bot was trained to compose guitar music using the \n",
        "[Mutopia Guitar Dataset](https://huggingface.co/datasets/juancopi81/mutopia_guitar_dataset). \n",
        "Change the controllers and receive a new guitar piece!\n",
        "<figure>\n",
        "<center>\n",
        "<img src=\"https://drive.google.com/uc?export=view&id=1F22ofTCeJAHqVag4lJvBZugAE1OyabVA\" \n",
        "width=200px alt=\"Robot playing the guitar\">\n",
        "<figcaption>Image generated using DALL-E</figcaption>\n",
        "</center>\n",
        "</figure>\n",
        "\"\"\"\n",
        "article = \"\"\"\n",
        "For a complete tutorial on how to create this demo from scratch, check out this\n",
        "[GitHub Repo](https://github.com/juancopi81/MMM_Mutopia_Guitar).\n",
        "\"\"\"\n",
        "\n",
        "# Helper function to create the string seed\n",
        "def create_seed(time_signature: str,\n",
        "                note: str,\n",
        "                bpm: int,\n",
        "                density: int) -> str:\n",
        "  \n",
        "  seed = (f\"PIECE_START TIME_SIGNATURE={time_signature_to_tokens[time_signature]} \"\n",
        "          f\"BPM={bpm} TRACK_START INST=0 DENSITY={density} \"\n",
        "          f\"BAR_START NOTE_ON={notes_to_midi[note]} \")\n",
        "  return seed\n",
        "          \n",
        "\n",
        "def generate_guitar_piece(time_signature: str,\n",
        "                          note: str,\n",
        "                          bpm: int,\n",
        "                          density: int):\n",
        "  seed = create_seed(time_signature, note, bpm, density)\n",
        "  piece = pipe(seed, max_length=250)[0][\"generated_text\"]\n",
        "  \n",
        "  # Convert text of notes to audio\n",
        "  note_sequence = token_sequence_to_note_sequence(piece)\n",
        "  synth = note_seq.midi_synth.fluidsynth\n",
        "  array_of_floats = synth(note_sequence, sample_rate=SAMPLE_RATE)\n",
        "  int16_data = note_seq.audio_io.float_samples_to_int16(array_of_floats)\n",
        "  return SAMPLE_RATE, int16_data\n",
        "\n",
        "# Create a block object\n",
        "demo = gr.Blocks()\n",
        "\n",
        "# Use your Block object as a context\n",
        "with demo:\n",
        "  gr.Markdown(\"<h1 style='text-align: center; margin-bottom: 1rem'>\" \n",
        "              + title \n",
        "              + \"</h1>\")\n",
        "  gr.Markdown(description)\n",
        "\n",
        "  # UI for the inputs of the model\n",
        "  gr.Markdown(\"Select the generation parameters.\")\n",
        "  with gr.Row():\n",
        "    time_signature = gr.Dropdown(time_signatures, value=\"4/4\", label=\"Time signature\") \n",
        "    note = gr.Dropdown(notes, value=\"G2\", label=\"First note\")\n",
        "    bpm = gr.Slider(minimum=60, maximum=140, step=10, value=90, label=\"Tempo\")\n",
        "    density = gr.Slider(minimum=0, maximum=5, step=1, value=2, label=\"Density\")\n",
        "  with gr.Row():\n",
        "    btn = gr.Button(\"Compose\")\n",
        "  audio_output = gr.Audio()\n",
        "  btn.click(generate_guitar_piece, \n",
        "            inputs = [\n",
        "                time_signature, \n",
        "                note, \n",
        "                bpm, \n",
        "                density\n",
        "            ],\n",
        "            outputs=audio_output)\n",
        "  \n",
        "  gr.Markdown(article)\n",
        "\n",
        "# Launch your demo\n",
        "demo.launch(debug=False)"
      ],
      "metadata": {
        "colab": {
          "base_uri": "https://localhost:8080/",
          "height": 643
        },
        "id": "FNpYjZKxh4gA",
        "outputId": "69858412-9196-4208-b16e-66e2fe6b6325"
      },
      "execution_count": 13,
      "outputs": [
        {
          "output_type": "stream",
          "name": "stdout",
          "text": [
            "Colab notebook detected. To show errors in colab notebook, set `debug=True` in `launch()`\n",
            "Running on public URL: https://27125.gradio.app\n",
            "\n",
            "This share link expires in 72 hours. For free permanent hosting, check out Spaces: https://huggingface.co/spaces\n"
          ]
        },
        {
          "output_type": "display_data",
          "data": {
            "text/plain": [
              "<IPython.core.display.HTML object>"
            ],
            "text/html": [
              "<div><iframe src=\"https://27125.gradio.app\" width=\"900\" height=\"500\" allow=\"autoplay; camera; microphone;\" frameborder=\"0\" allowfullscreen></iframe></div>"
            ]
          },
          "metadata": {}
        },
        {
          "output_type": "execute_result",
          "data": {
            "text/plain": [
              "(<gradio.routes.App at 0x7faf975828d0>,\n",
              " 'http://127.0.0.1:7867/',\n",
              " 'https://27125.gradio.app')"
            ]
          },
          "metadata": {},
          "execution_count": 13
        }
      ]
    },
    {
      "cell_type": "markdown",
      "source": [
        "### Adding an image input to our model"
      ],
      "metadata": {
        "id": "YMk9HcnTo4q8"
      }
    },
    {
      "cell_type": "markdown",
      "source": [
        "It's also nice that users can visualize what they are hearing. A common way to do this is using a Piano Roll. Let's add another output to our demo, an image, so users can listen to and see the model's results.\n",
        "\n",
        "First, we'll define some helper functions for this."
      ],
      "metadata": {
        "id": "fYcTb6rIpyi7"
      }
    },
    {
      "cell_type": "code",
      "execution_count": 14,
      "metadata": {
        "id": "WcLSjdLG5foU"
      },
      "outputs": [],
      "source": [
        "import collections\n",
        "import io\n",
        "\n",
        "import pandas as pd\n",
        "import matplotlib.pyplot as plt\n",
        "from matplotlib.patches import Rectangle\n",
        "from PIL import Image\n",
        "\n",
        "def sequence_to_pandas_dataframe(sequence):\n",
        "  pd_dict = collections.defaultdict(list)\n",
        "  for note in sequence.notes:\n",
        "    pd_dict[\"start_time\"].append(note.start_time)\n",
        "    pd_dict[\"end_time\"].append(note.end_time)\n",
        "    pd_dict[\"duration\"].append(note.end_time - note.start_time)\n",
        "    pd_dict[\"pitch\"].append(note.pitch)\n",
        "\n",
        "  return pd.DataFrame(pd_dict)\n",
        "\n",
        "def dataframe_to_pianoroll_img(df):\n",
        "  fig = plt.figure(figsize=(8, 5))\n",
        "  ax = fig.add_subplot(111)\n",
        "  ax.scatter(df.start_time, df.pitch, c=\"white\")\n",
        "  for _, row in df.iterrows():\n",
        "    ax.add_patch(Rectangle(\n",
        "        (row[\"start_time\"], row[\"pitch\"]-0.4), \n",
        "        row[\"duration\"], 0.4, color=\"black\"\n",
        "    ))\n",
        "  plt.xlabel('Seconds', fontsize=18)\n",
        "  plt.ylabel('MIDI pitch', fontsize=16)\n",
        "  return fig\n",
        "\n",
        "def fig2img(fig):\n",
        "    \"\"\"Convert a Matplotlib figure to a PIL Image and return it\"\"\"\n",
        "    import io\n",
        "    buf = io.BytesIO()\n",
        "    fig.savefig(buf, format=\"png\")\n",
        "    buf.seek(0)\n",
        "    img = Image.open(buf)\n",
        "    return img\n",
        "\n",
        "def create_image_from_note_sequence(sequence):\n",
        "  df_sequence = sequence_to_pandas_dataframe(sequence)\n",
        "  fig = dataframe_to_pianoroll_img(df_sequence)\n",
        "  img = fig2img(fig)\n",
        "  return img"
      ]
    },
    {
      "cell_type": "markdown",
      "source": [
        "You are now ready to add a piano roll to your demo. For doing this, you need to return in your `generate_guitar_piece` function both outputs:\n",
        "\n",
        "\n",
        "*   The `Audio` output: As a tuple of (sample rate, array).\n",
        "*   The `Image` output: As a PIL image in this case.\n",
        "\n",
        "Notice also how I added the audio_output and image_output as `gr.Audio()` and `gr.Image()` respectively in a row (`with gr.Row():`):\n"
      ],
      "metadata": {
        "id": "or9Ymt31oos2"
      }
    },
    {
      "cell_type": "code",
      "source": [
        "import gradio as gr\n",
        "\n",
        "SAMPLE_RATE=44100\n",
        "\n",
        "# Feel free to change this, I am using only three notes here because the model \n",
        "# works better this way.\n",
        "notes = [\"G2\", \"C3\", \"E3\"]\n",
        "notes_to_midi = {\"G2\": 43, \"C3\": 48, \"E3\": 52}\n",
        "time_signatures = [\"4/4\", \"3/4\", \"2/4\", \"6/8\"]\n",
        "time_signature_to_tokens = {\"4/4\": \"4_4\", \"3/4\": \"3_4\", \"2/4\": \"2_4\", \"6/8\": \"6_8\"}\n",
        "\n",
        "\n",
        "# Content for your demo:\n",
        "title = \"Mutopia Guitar Composer\"\n",
        "# I am adding here an image that I generated using DALL-E\n",
        "description = \"\"\"\n",
        "The bot was trained to compose guitar music using the \n",
        "[Mutopia Guitar Dataset](https://huggingface.co/datasets/juancopi81/mutopia_guitar_dataset). \n",
        "Change the controllers and receive a new guitar piece!\n",
        "<figure>\n",
        "<center>\n",
        "<img src=\"https://drive.google.com/uc?export=view&id=1F22ofTCeJAHqVag4lJvBZugAE1OyabVA\" \n",
        "width=200px alt=\"Robot playing the guitar\">\n",
        "<figcaption>Image generated using DALL-E</figcaption>\n",
        "</center>\n",
        "</figure>\n",
        "\"\"\"\n",
        "article = \"\"\"\n",
        "For a complete tutorial on how to create this demo from scratch, check out this\n",
        "[GitHub Repo](https://github.com/juancopi81/MMM_Mutopia_Guitar).\n",
        "\"\"\"\n",
        "\n",
        "# Helper function to create the string seed\n",
        "def create_seed(time_signature: str,\n",
        "                note: str,\n",
        "                bpm: int,\n",
        "                density: int) -> str:\n",
        "  \n",
        "  seed = (f\"PIECE_START TIME_SIGNATURE={time_signature_to_tokens[time_signature]} \"\n",
        "          f\"BPM={bpm} TRACK_START INST=0 DENSITY={density} \"\n",
        "          f\"BAR_START NOTE_ON={notes_to_midi[note]} \")\n",
        "  return seed\n",
        "          \n",
        "\n",
        "def generate_guitar_piece(time_signature: str,\n",
        "                          note: str,\n",
        "                          bpm: int,\n",
        "                          density: int):\n",
        "  seed = create_seed(time_signature, note, bpm, density)\n",
        "  piece = pipe(seed, max_length=250)[0][\"generated_text\"]\n",
        "  \n",
        "  # Convert text of notes to audio\n",
        "  note_sequence = token_sequence_to_note_sequence(piece)\n",
        "  synth = note_seq.midi_synth.fluidsynth\n",
        "  array_of_floats = synth(note_sequence, sample_rate=SAMPLE_RATE)\n",
        "  int16_data = note_seq.audio_io.float_samples_to_int16(array_of_floats)\n",
        "  piano_roll = create_image_from_note_sequence(note_sequence)\n",
        "  return (SAMPLE_RATE, int16_data), piano_roll\n",
        "\n",
        "# Create a block object\n",
        "demo = gr.Blocks()\n",
        "\n",
        "# Use your Block object as a context\n",
        "with demo:\n",
        "  gr.Markdown(\"<h1 style='text-align: center; margin-bottom: 1rem'>\" \n",
        "              + title \n",
        "              + \"</h1>\")\n",
        "  gr.Markdown(description)\n",
        "\n",
        "  # UI for the inputs of the model\n",
        "  gr.Markdown(\"Select the generation parameters.\")\n",
        "  with gr.Row():\n",
        "    time_signature = gr.Dropdown(time_signatures, value=\"4/4\", label=\"Time signature\") \n",
        "    note = gr.Dropdown(notes, value=\"G2\", label=\"First note\")\n",
        "    bpm = gr.Slider(minimum=60, maximum=140, step=10, value=90, label=\"Tempo\")\n",
        "    density = gr.Slider(minimum=0, maximum=4, step=1, value=2, label=\"Density\")\n",
        "  with gr.Row():\n",
        "    btn = gr.Button(\"Compose\")\n",
        "  with gr.Row():\n",
        "    audio_output = gr.Audio()\n",
        "    image_output = gr.Image()\n",
        "  btn.click(generate_guitar_piece, \n",
        "            inputs = [\n",
        "                time_signature, \n",
        "                note, \n",
        "                bpm, \n",
        "                density\n",
        "            ],\n",
        "            outputs=[audio_output, image_output])\n",
        "  \n",
        "  gr.Markdown(article)\n",
        "\n",
        "# Launch your demo\n",
        "demo.launch(debug=False)"
      ],
      "metadata": {
        "colab": {
          "base_uri": "https://localhost:8080/",
          "height": 643
        },
        "id": "e5COiANjqfUz",
        "outputId": "ee866381-d03c-463b-c927-60de356a4b5b"
      },
      "execution_count": 15,
      "outputs": [
        {
          "output_type": "stream",
          "name": "stdout",
          "text": [
            "Colab notebook detected. To show errors in colab notebook, set `debug=True` in `launch()`\n",
            "Running on public URL: https://29317.gradio.app\n",
            "\n",
            "This share link expires in 72 hours. For free permanent hosting, check out Spaces: https://huggingface.co/spaces\n"
          ]
        },
        {
          "output_type": "display_data",
          "data": {
            "text/plain": [
              "<IPython.core.display.HTML object>"
            ],
            "text/html": [
              "<div><iframe src=\"https://29317.gradio.app\" width=\"900\" height=\"500\" allow=\"autoplay; camera; microphone;\" frameborder=\"0\" allowfullscreen></iframe></div>"
            ]
          },
          "metadata": {}
        },
        {
          "output_type": "execute_result",
          "data": {
            "text/plain": [
              "(<gradio.routes.App at 0x7faf737c1f50>,\n",
              " 'http://127.0.0.1:7868/',\n",
              " 'https://29317.gradio.app')"
            ]
          },
          "metadata": {},
          "execution_count": 15
        }
      ]
    },
    {
      "cell_type": "markdown",
      "metadata": {},
      "source": [
        "Amazing!! Great work! You can now share your demo with the world using Spaces' free hosting. For that, you need to create a Space in Hugging Face, clone it to your local computer, and adapt the code of this notebook. This adaptation should include a requirement.txt and the app.py file (where you would add the code of your Gradio Demo). You can check in this link how a final adaptation in Spaces could be made."
      ]
    },
    {
      "cell_type": "markdown",
      "source": [
        "This has been an incredible journey. Congratulations on getting this far! We started from scratch and followed a series of steps to create an actual bot that composes guitar music, and we share it with the world. This is not trivial; you should be proud of yourself. For achieving this, you:\n",
        "\n",
        "\n",
        "1.   Collected a dataset of guitar music from the Mutopia Project.\n",
        "2.   Converted the MIDI files to text using the embedding representations proposed in the paper [MMM: Exploring Conditional Multi-Track Music Generation with the Transformer](https://arxiv.org/abs/2008.06048) and [implemented](https://github.com/AI-Guru/MMM-JSB) by dr. Tristan Behrens.\n",
        "3.   With this Music as text, you then created a WordLevel Tokenizer.\n",
        "4.   A dataset and a tokenizer allowed you to train a GPT-2 model using Hugging Face.\n",
        "5.   Finally, you created a Gradio Demo and shared it with the world.\n",
        "\n",
        "Fantastic! I hope you have had as much fun going through this tutorial as I had created it."
      ],
      "metadata": {
        "id": "y2rTe1W6p454"
      }
    }
  ],
  "metadata": {
    "colab": {
      "collapsed_sections": [],
      "provenance": [],
      "toc_visible": true
    },
    "gpuClass": "standard",
    "kernelspec": {
      "display_name": "Python 3",
      "name": "python3"
    },
    "language_info": {
      "name": "python"
    },
    "widgets": {
      "application/vnd.jupyter.widget-state+json": {
        "eaae4ec110bf4faf9ab619b596bb323a": {
          "model_module": "@jupyter-widgets/controls",
          "model_name": "HBoxModel",
          "model_module_version": "1.5.0",
          "state": {
            "_dom_classes": [],
            "_model_module": "@jupyter-widgets/controls",
            "_model_module_version": "1.5.0",
            "_model_name": "HBoxModel",
            "_view_count": null,
            "_view_module": "@jupyter-widgets/controls",
            "_view_module_version": "1.5.0",
            "_view_name": "HBoxView",
            "box_style": "",
            "children": [
              "IPY_MODEL_2720efbde9424920bfabb2ef1a018eff",
              "IPY_MODEL_7280167d05bc4b0992a9f4e3ed2ae511",
              "IPY_MODEL_7c0b735c98b14bc683027b13718bdc1a"
            ],
            "layout": "IPY_MODEL_2f842609fea44cfab6b096c4c5832036"
          }
        },
        "2720efbde9424920bfabb2ef1a018eff": {
          "model_module": "@jupyter-widgets/controls",
          "model_name": "HTMLModel",
          "model_module_version": "1.5.0",
          "state": {
            "_dom_classes": [],
            "_model_module": "@jupyter-widgets/controls",
            "_model_module_version": "1.5.0",
            "_model_name": "HTMLModel",
            "_view_count": null,
            "_view_module": "@jupyter-widgets/controls",
            "_view_module_version": "1.5.0",
            "_view_name": "HTMLView",
            "description": "",
            "description_tooltip": null,
            "layout": "IPY_MODEL_215e11ed5e5749829be3748212d55542",
            "placeholder": "​",
            "style": "IPY_MODEL_1d32d3fe88a94b5e98916c5b53135661",
            "value": ""
          }
        },
        "7280167d05bc4b0992a9f4e3ed2ae511": {
          "model_module": "@jupyter-widgets/controls",
          "model_name": "FloatProgressModel",
          "model_module_version": "1.5.0",
          "state": {
            "_dom_classes": [],
            "_model_module": "@jupyter-widgets/controls",
            "_model_module_version": "1.5.0",
            "_model_name": "FloatProgressModel",
            "_view_count": null,
            "_view_module": "@jupyter-widgets/controls",
            "_view_module_version": "1.5.0",
            "_view_name": "ProgressView",
            "bar_style": "success",
            "description": "",
            "description_tooltip": null,
            "layout": "IPY_MODEL_c4f94e6bc72943378b8b2b55c8b430b3",
            "max": 1,
            "min": 0,
            "orientation": "horizontal",
            "style": "IPY_MODEL_b05c7b19eaf84e00996aaee4bd1f42ae",
            "value": 0
          }
        },
        "7c0b735c98b14bc683027b13718bdc1a": {
          "model_module": "@jupyter-widgets/controls",
          "model_name": "HTMLModel",
          "model_module_version": "1.5.0",
          "state": {
            "_dom_classes": [],
            "_model_module": "@jupyter-widgets/controls",
            "_model_module_version": "1.5.0",
            "_model_name": "HTMLModel",
            "_view_count": null,
            "_view_module": "@jupyter-widgets/controls",
            "_view_module_version": "1.5.0",
            "_view_name": "HTMLView",
            "description": "",
            "description_tooltip": null,
            "layout": "IPY_MODEL_ea396ec4a7dd4c1aa3ee9ebe22802bf8",
            "placeholder": "​",
            "style": "IPY_MODEL_d26fec41b14e47c4aa467200f150af54",
            "value": " 0/0 [00:00&lt;?, ?it/s]"
          }
        },
        "2f842609fea44cfab6b096c4c5832036": {
          "model_module": "@jupyter-widgets/base",
          "model_name": "LayoutModel",
          "model_module_version": "1.2.0",
          "state": {
            "_model_module": "@jupyter-widgets/base",
            "_model_module_version": "1.2.0",
            "_model_name": "LayoutModel",
            "_view_count": null,
            "_view_module": "@jupyter-widgets/base",
            "_view_module_version": "1.2.0",
            "_view_name": "LayoutView",
            "align_content": null,
            "align_items": null,
            "align_self": null,
            "border": null,
            "bottom": null,
            "display": null,
            "flex": null,
            "flex_flow": null,
            "grid_area": null,
            "grid_auto_columns": null,
            "grid_auto_flow": null,
            "grid_auto_rows": null,
            "grid_column": null,
            "grid_gap": null,
            "grid_row": null,
            "grid_template_areas": null,
            "grid_template_columns": null,
            "grid_template_rows": null,
            "height": null,
            "justify_content": null,
            "justify_items": null,
            "left": null,
            "margin": null,
            "max_height": null,
            "max_width": null,
            "min_height": null,
            "min_width": null,
            "object_fit": null,
            "object_position": null,
            "order": null,
            "overflow": null,
            "overflow_x": null,
            "overflow_y": null,
            "padding": null,
            "right": null,
            "top": null,
            "visibility": null,
            "width": null
          }
        },
        "215e11ed5e5749829be3748212d55542": {
          "model_module": "@jupyter-widgets/base",
          "model_name": "LayoutModel",
          "model_module_version": "1.2.0",
          "state": {
            "_model_module": "@jupyter-widgets/base",
            "_model_module_version": "1.2.0",
            "_model_name": "LayoutModel",
            "_view_count": null,
            "_view_module": "@jupyter-widgets/base",
            "_view_module_version": "1.2.0",
            "_view_name": "LayoutView",
            "align_content": null,
            "align_items": null,
            "align_self": null,
            "border": null,
            "bottom": null,
            "display": null,
            "flex": null,
            "flex_flow": null,
            "grid_area": null,
            "grid_auto_columns": null,
            "grid_auto_flow": null,
            "grid_auto_rows": null,
            "grid_column": null,
            "grid_gap": null,
            "grid_row": null,
            "grid_template_areas": null,
            "grid_template_columns": null,
            "grid_template_rows": null,
            "height": null,
            "justify_content": null,
            "justify_items": null,
            "left": null,
            "margin": null,
            "max_height": null,
            "max_width": null,
            "min_height": null,
            "min_width": null,
            "object_fit": null,
            "object_position": null,
            "order": null,
            "overflow": null,
            "overflow_x": null,
            "overflow_y": null,
            "padding": null,
            "right": null,
            "top": null,
            "visibility": null,
            "width": null
          }
        },
        "1d32d3fe88a94b5e98916c5b53135661": {
          "model_module": "@jupyter-widgets/controls",
          "model_name": "DescriptionStyleModel",
          "model_module_version": "1.5.0",
          "state": {
            "_model_module": "@jupyter-widgets/controls",
            "_model_module_version": "1.5.0",
            "_model_name": "DescriptionStyleModel",
            "_view_count": null,
            "_view_module": "@jupyter-widgets/base",
            "_view_module_version": "1.2.0",
            "_view_name": "StyleView",
            "description_width": ""
          }
        },
        "c4f94e6bc72943378b8b2b55c8b430b3": {
          "model_module": "@jupyter-widgets/base",
          "model_name": "LayoutModel",
          "model_module_version": "1.2.0",
          "state": {
            "_model_module": "@jupyter-widgets/base",
            "_model_module_version": "1.2.0",
            "_model_name": "LayoutModel",
            "_view_count": null,
            "_view_module": "@jupyter-widgets/base",
            "_view_module_version": "1.2.0",
            "_view_name": "LayoutView",
            "align_content": null,
            "align_items": null,
            "align_self": null,
            "border": null,
            "bottom": null,
            "display": null,
            "flex": null,
            "flex_flow": null,
            "grid_area": null,
            "grid_auto_columns": null,
            "grid_auto_flow": null,
            "grid_auto_rows": null,
            "grid_column": null,
            "grid_gap": null,
            "grid_row": null,
            "grid_template_areas": null,
            "grid_template_columns": null,
            "grid_template_rows": null,
            "height": null,
            "justify_content": null,
            "justify_items": null,
            "left": null,
            "margin": null,
            "max_height": null,
            "max_width": null,
            "min_height": null,
            "min_width": null,
            "object_fit": null,
            "object_position": null,
            "order": null,
            "overflow": null,
            "overflow_x": null,
            "overflow_y": null,
            "padding": null,
            "right": null,
            "top": null,
            "visibility": null,
            "width": "20px"
          }
        },
        "b05c7b19eaf84e00996aaee4bd1f42ae": {
          "model_module": "@jupyter-widgets/controls",
          "model_name": "ProgressStyleModel",
          "model_module_version": "1.5.0",
          "state": {
            "_model_module": "@jupyter-widgets/controls",
            "_model_module_version": "1.5.0",
            "_model_name": "ProgressStyleModel",
            "_view_count": null,
            "_view_module": "@jupyter-widgets/base",
            "_view_module_version": "1.2.0",
            "_view_name": "StyleView",
            "bar_color": null,
            "description_width": ""
          }
        },
        "ea396ec4a7dd4c1aa3ee9ebe22802bf8": {
          "model_module": "@jupyter-widgets/base",
          "model_name": "LayoutModel",
          "model_module_version": "1.2.0",
          "state": {
            "_model_module": "@jupyter-widgets/base",
            "_model_module_version": "1.2.0",
            "_model_name": "LayoutModel",
            "_view_count": null,
            "_view_module": "@jupyter-widgets/base",
            "_view_module_version": "1.2.0",
            "_view_name": "LayoutView",
            "align_content": null,
            "align_items": null,
            "align_self": null,
            "border": null,
            "bottom": null,
            "display": null,
            "flex": null,
            "flex_flow": null,
            "grid_area": null,
            "grid_auto_columns": null,
            "grid_auto_flow": null,
            "grid_auto_rows": null,
            "grid_column": null,
            "grid_gap": null,
            "grid_row": null,
            "grid_template_areas": null,
            "grid_template_columns": null,
            "grid_template_rows": null,
            "height": null,
            "justify_content": null,
            "justify_items": null,
            "left": null,
            "margin": null,
            "max_height": null,
            "max_width": null,
            "min_height": null,
            "min_width": null,
            "object_fit": null,
            "object_position": null,
            "order": null,
            "overflow": null,
            "overflow_x": null,
            "overflow_y": null,
            "padding": null,
            "right": null,
            "top": null,
            "visibility": null,
            "width": null
          }
        },
        "d26fec41b14e47c4aa467200f150af54": {
          "model_module": "@jupyter-widgets/controls",
          "model_name": "DescriptionStyleModel",
          "model_module_version": "1.5.0",
          "state": {
            "_model_module": "@jupyter-widgets/controls",
            "_model_module_version": "1.5.0",
            "_model_name": "DescriptionStyleModel",
            "_view_count": null,
            "_view_module": "@jupyter-widgets/base",
            "_view_module_version": "1.2.0",
            "_view_name": "StyleView",
            "description_width": ""
          }
        },
        "d8c737dc1d7547549abbe5d679554a68": {
          "model_module": "@jupyter-widgets/controls",
          "model_name": "HBoxModel",
          "model_module_version": "1.5.0",
          "state": {
            "_dom_classes": [],
            "_model_module": "@jupyter-widgets/controls",
            "_model_module_version": "1.5.0",
            "_model_name": "HBoxModel",
            "_view_count": null,
            "_view_module": "@jupyter-widgets/controls",
            "_view_module_version": "1.5.0",
            "_view_name": "HBoxView",
            "box_style": "",
            "children": [
              "IPY_MODEL_5a2ed9afcf014bb5b6106d8e8b3e90cb",
              "IPY_MODEL_f6d470f427d54e87a50f495620400205",
              "IPY_MODEL_55d37996498d4ed6a857f4c48c27a028"
            ],
            "layout": "IPY_MODEL_ad11d25d5fdb42df92ac1f7f28ae8b8a"
          }
        },
        "5a2ed9afcf014bb5b6106d8e8b3e90cb": {
          "model_module": "@jupyter-widgets/controls",
          "model_name": "HTMLModel",
          "model_module_version": "1.5.0",
          "state": {
            "_dom_classes": [],
            "_model_module": "@jupyter-widgets/controls",
            "_model_module_version": "1.5.0",
            "_model_name": "HTMLModel",
            "_view_count": null,
            "_view_module": "@jupyter-widgets/controls",
            "_view_module_version": "1.5.0",
            "_view_name": "HTMLView",
            "description": "",
            "description_tooltip": null,
            "layout": "IPY_MODEL_9737a13b55684d0a9186272f301c3ccc",
            "placeholder": "​",
            "style": "IPY_MODEL_084e7d01ded4495bbccc2a5a8f012cf9",
            "value": "Downloading: 100%"
          }
        },
        "f6d470f427d54e87a50f495620400205": {
          "model_module": "@jupyter-widgets/controls",
          "model_name": "FloatProgressModel",
          "model_module_version": "1.5.0",
          "state": {
            "_dom_classes": [],
            "_model_module": "@jupyter-widgets/controls",
            "_model_module_version": "1.5.0",
            "_model_name": "FloatProgressModel",
            "_view_count": null,
            "_view_module": "@jupyter-widgets/controls",
            "_view_module_version": "1.5.0",
            "_view_name": "ProgressView",
            "bar_style": "success",
            "description": "",
            "description_tooltip": null,
            "layout": "IPY_MODEL_61c1f70f809f430abb8528e80c113693",
            "max": 894,
            "min": 0,
            "orientation": "horizontal",
            "style": "IPY_MODEL_d651525ba8d146eba23547c5052c0596",
            "value": 894
          }
        },
        "55d37996498d4ed6a857f4c48c27a028": {
          "model_module": "@jupyter-widgets/controls",
          "model_name": "HTMLModel",
          "model_module_version": "1.5.0",
          "state": {
            "_dom_classes": [],
            "_model_module": "@jupyter-widgets/controls",
            "_model_module_version": "1.5.0",
            "_model_name": "HTMLModel",
            "_view_count": null,
            "_view_module": "@jupyter-widgets/controls",
            "_view_module_version": "1.5.0",
            "_view_name": "HTMLView",
            "description": "",
            "description_tooltip": null,
            "layout": "IPY_MODEL_817598cafeae491abec48809717f2cf5",
            "placeholder": "​",
            "style": "IPY_MODEL_a2d40f8eea804277acc93f721488be25",
            "value": " 894/894 [00:00&lt;00:00, 9.21kB/s]"
          }
        },
        "ad11d25d5fdb42df92ac1f7f28ae8b8a": {
          "model_module": "@jupyter-widgets/base",
          "model_name": "LayoutModel",
          "model_module_version": "1.2.0",
          "state": {
            "_model_module": "@jupyter-widgets/base",
            "_model_module_version": "1.2.0",
            "_model_name": "LayoutModel",
            "_view_count": null,
            "_view_module": "@jupyter-widgets/base",
            "_view_module_version": "1.2.0",
            "_view_name": "LayoutView",
            "align_content": null,
            "align_items": null,
            "align_self": null,
            "border": null,
            "bottom": null,
            "display": null,
            "flex": null,
            "flex_flow": null,
            "grid_area": null,
            "grid_auto_columns": null,
            "grid_auto_flow": null,
            "grid_auto_rows": null,
            "grid_column": null,
            "grid_gap": null,
            "grid_row": null,
            "grid_template_areas": null,
            "grid_template_columns": null,
            "grid_template_rows": null,
            "height": null,
            "justify_content": null,
            "justify_items": null,
            "left": null,
            "margin": null,
            "max_height": null,
            "max_width": null,
            "min_height": null,
            "min_width": null,
            "object_fit": null,
            "object_position": null,
            "order": null,
            "overflow": null,
            "overflow_x": null,
            "overflow_y": null,
            "padding": null,
            "right": null,
            "top": null,
            "visibility": null,
            "width": null
          }
        },
        "9737a13b55684d0a9186272f301c3ccc": {
          "model_module": "@jupyter-widgets/base",
          "model_name": "LayoutModel",
          "model_module_version": "1.2.0",
          "state": {
            "_model_module": "@jupyter-widgets/base",
            "_model_module_version": "1.2.0",
            "_model_name": "LayoutModel",
            "_view_count": null,
            "_view_module": "@jupyter-widgets/base",
            "_view_module_version": "1.2.0",
            "_view_name": "LayoutView",
            "align_content": null,
            "align_items": null,
            "align_self": null,
            "border": null,
            "bottom": null,
            "display": null,
            "flex": null,
            "flex_flow": null,
            "grid_area": null,
            "grid_auto_columns": null,
            "grid_auto_flow": null,
            "grid_auto_rows": null,
            "grid_column": null,
            "grid_gap": null,
            "grid_row": null,
            "grid_template_areas": null,
            "grid_template_columns": null,
            "grid_template_rows": null,
            "height": null,
            "justify_content": null,
            "justify_items": null,
            "left": null,
            "margin": null,
            "max_height": null,
            "max_width": null,
            "min_height": null,
            "min_width": null,
            "object_fit": null,
            "object_position": null,
            "order": null,
            "overflow": null,
            "overflow_x": null,
            "overflow_y": null,
            "padding": null,
            "right": null,
            "top": null,
            "visibility": null,
            "width": null
          }
        },
        "084e7d01ded4495bbccc2a5a8f012cf9": {
          "model_module": "@jupyter-widgets/controls",
          "model_name": "DescriptionStyleModel",
          "model_module_version": "1.5.0",
          "state": {
            "_model_module": "@jupyter-widgets/controls",
            "_model_module_version": "1.5.0",
            "_model_name": "DescriptionStyleModel",
            "_view_count": null,
            "_view_module": "@jupyter-widgets/base",
            "_view_module_version": "1.2.0",
            "_view_name": "StyleView",
            "description_width": ""
          }
        },
        "61c1f70f809f430abb8528e80c113693": {
          "model_module": "@jupyter-widgets/base",
          "model_name": "LayoutModel",
          "model_module_version": "1.2.0",
          "state": {
            "_model_module": "@jupyter-widgets/base",
            "_model_module_version": "1.2.0",
            "_model_name": "LayoutModel",
            "_view_count": null,
            "_view_module": "@jupyter-widgets/base",
            "_view_module_version": "1.2.0",
            "_view_name": "LayoutView",
            "align_content": null,
            "align_items": null,
            "align_self": null,
            "border": null,
            "bottom": null,
            "display": null,
            "flex": null,
            "flex_flow": null,
            "grid_area": null,
            "grid_auto_columns": null,
            "grid_auto_flow": null,
            "grid_auto_rows": null,
            "grid_column": null,
            "grid_gap": null,
            "grid_row": null,
            "grid_template_areas": null,
            "grid_template_columns": null,
            "grid_template_rows": null,
            "height": null,
            "justify_content": null,
            "justify_items": null,
            "left": null,
            "margin": null,
            "max_height": null,
            "max_width": null,
            "min_height": null,
            "min_width": null,
            "object_fit": null,
            "object_position": null,
            "order": null,
            "overflow": null,
            "overflow_x": null,
            "overflow_y": null,
            "padding": null,
            "right": null,
            "top": null,
            "visibility": null,
            "width": null
          }
        },
        "d651525ba8d146eba23547c5052c0596": {
          "model_module": "@jupyter-widgets/controls",
          "model_name": "ProgressStyleModel",
          "model_module_version": "1.5.0",
          "state": {
            "_model_module": "@jupyter-widgets/controls",
            "_model_module_version": "1.5.0",
            "_model_name": "ProgressStyleModel",
            "_view_count": null,
            "_view_module": "@jupyter-widgets/base",
            "_view_module_version": "1.2.0",
            "_view_name": "StyleView",
            "bar_color": null,
            "description_width": ""
          }
        },
        "817598cafeae491abec48809717f2cf5": {
          "model_module": "@jupyter-widgets/base",
          "model_name": "LayoutModel",
          "model_module_version": "1.2.0",
          "state": {
            "_model_module": "@jupyter-widgets/base",
            "_model_module_version": "1.2.0",
            "_model_name": "LayoutModel",
            "_view_count": null,
            "_view_module": "@jupyter-widgets/base",
            "_view_module_version": "1.2.0",
            "_view_name": "LayoutView",
            "align_content": null,
            "align_items": null,
            "align_self": null,
            "border": null,
            "bottom": null,
            "display": null,
            "flex": null,
            "flex_flow": null,
            "grid_area": null,
            "grid_auto_columns": null,
            "grid_auto_flow": null,
            "grid_auto_rows": null,
            "grid_column": null,
            "grid_gap": null,
            "grid_row": null,
            "grid_template_areas": null,
            "grid_template_columns": null,
            "grid_template_rows": null,
            "height": null,
            "justify_content": null,
            "justify_items": null,
            "left": null,
            "margin": null,
            "max_height": null,
            "max_width": null,
            "min_height": null,
            "min_width": null,
            "object_fit": null,
            "object_position": null,
            "order": null,
            "overflow": null,
            "overflow_x": null,
            "overflow_y": null,
            "padding": null,
            "right": null,
            "top": null,
            "visibility": null,
            "width": null
          }
        },
        "a2d40f8eea804277acc93f721488be25": {
          "model_module": "@jupyter-widgets/controls",
          "model_name": "DescriptionStyleModel",
          "model_module_version": "1.5.0",
          "state": {
            "_model_module": "@jupyter-widgets/controls",
            "_model_module_version": "1.5.0",
            "_model_name": "DescriptionStyleModel",
            "_view_count": null,
            "_view_module": "@jupyter-widgets/base",
            "_view_module_version": "1.2.0",
            "_view_name": "StyleView",
            "description_width": ""
          }
        },
        "061358b8911745669f84284aa318cc87": {
          "model_module": "@jupyter-widgets/controls",
          "model_name": "HBoxModel",
          "model_module_version": "1.5.0",
          "state": {
            "_dom_classes": [],
            "_model_module": "@jupyter-widgets/controls",
            "_model_module_version": "1.5.0",
            "_model_name": "HBoxModel",
            "_view_count": null,
            "_view_module": "@jupyter-widgets/controls",
            "_view_module_version": "1.5.0",
            "_view_name": "HBoxView",
            "box_style": "",
            "children": [
              "IPY_MODEL_5548f3328463484b8a07506b50bf792a",
              "IPY_MODEL_06a9ff84cb7f4cd793c2580a8a9e9eb9",
              "IPY_MODEL_b39884b10c8e47af9547932e2508de13"
            ],
            "layout": "IPY_MODEL_bd86be8730d74aac933846739eb4da50"
          }
        },
        "5548f3328463484b8a07506b50bf792a": {
          "model_module": "@jupyter-widgets/controls",
          "model_name": "HTMLModel",
          "model_module_version": "1.5.0",
          "state": {
            "_dom_classes": [],
            "_model_module": "@jupyter-widgets/controls",
            "_model_module_version": "1.5.0",
            "_model_name": "HTMLModel",
            "_view_count": null,
            "_view_module": "@jupyter-widgets/controls",
            "_view_module_version": "1.5.0",
            "_view_name": "HTMLView",
            "description": "",
            "description_tooltip": null,
            "layout": "IPY_MODEL_9a6cabad8f1840b18ca1a82d579827d7",
            "placeholder": "​",
            "style": "IPY_MODEL_c50ed4f2c86d4288a9824bb46411b46c",
            "value": "Downloading: 100%"
          }
        },
        "06a9ff84cb7f4cd793c2580a8a9e9eb9": {
          "model_module": "@jupyter-widgets/controls",
          "model_name": "FloatProgressModel",
          "model_module_version": "1.5.0",
          "state": {
            "_dom_classes": [],
            "_model_module": "@jupyter-widgets/controls",
            "_model_module_version": "1.5.0",
            "_model_name": "FloatProgressModel",
            "_view_count": null,
            "_view_module": "@jupyter-widgets/controls",
            "_view_module_version": "1.5.0",
            "_view_name": "ProgressView",
            "bar_style": "success",
            "description": "",
            "description_tooltip": null,
            "layout": "IPY_MODEL_0b504054ff43418998f3e421611decb1",
            "max": 345352296,
            "min": 0,
            "orientation": "horizontal",
            "style": "IPY_MODEL_bd3c68abb34948fc84485bc6f7ce820b",
            "value": 345352296
          }
        },
        "b39884b10c8e47af9547932e2508de13": {
          "model_module": "@jupyter-widgets/controls",
          "model_name": "HTMLModel",
          "model_module_version": "1.5.0",
          "state": {
            "_dom_classes": [],
            "_model_module": "@jupyter-widgets/controls",
            "_model_module_version": "1.5.0",
            "_model_name": "HTMLModel",
            "_view_count": null,
            "_view_module": "@jupyter-widgets/controls",
            "_view_module_version": "1.5.0",
            "_view_name": "HTMLView",
            "description": "",
            "description_tooltip": null,
            "layout": "IPY_MODEL_5787b1e84d7049678e59b502db25147d",
            "placeholder": "​",
            "style": "IPY_MODEL_a186ac002da546f79f220ef9f06dd150",
            "value": " 345M/345M [00:23&lt;00:00, 15.8MB/s]"
          }
        },
        "bd86be8730d74aac933846739eb4da50": {
          "model_module": "@jupyter-widgets/base",
          "model_name": "LayoutModel",
          "model_module_version": "1.2.0",
          "state": {
            "_model_module": "@jupyter-widgets/base",
            "_model_module_version": "1.2.0",
            "_model_name": "LayoutModel",
            "_view_count": null,
            "_view_module": "@jupyter-widgets/base",
            "_view_module_version": "1.2.0",
            "_view_name": "LayoutView",
            "align_content": null,
            "align_items": null,
            "align_self": null,
            "border": null,
            "bottom": null,
            "display": null,
            "flex": null,
            "flex_flow": null,
            "grid_area": null,
            "grid_auto_columns": null,
            "grid_auto_flow": null,
            "grid_auto_rows": null,
            "grid_column": null,
            "grid_gap": null,
            "grid_row": null,
            "grid_template_areas": null,
            "grid_template_columns": null,
            "grid_template_rows": null,
            "height": null,
            "justify_content": null,
            "justify_items": null,
            "left": null,
            "margin": null,
            "max_height": null,
            "max_width": null,
            "min_height": null,
            "min_width": null,
            "object_fit": null,
            "object_position": null,
            "order": null,
            "overflow": null,
            "overflow_x": null,
            "overflow_y": null,
            "padding": null,
            "right": null,
            "top": null,
            "visibility": null,
            "width": null
          }
        },
        "9a6cabad8f1840b18ca1a82d579827d7": {
          "model_module": "@jupyter-widgets/base",
          "model_name": "LayoutModel",
          "model_module_version": "1.2.0",
          "state": {
            "_model_module": "@jupyter-widgets/base",
            "_model_module_version": "1.2.0",
            "_model_name": "LayoutModel",
            "_view_count": null,
            "_view_module": "@jupyter-widgets/base",
            "_view_module_version": "1.2.0",
            "_view_name": "LayoutView",
            "align_content": null,
            "align_items": null,
            "align_self": null,
            "border": null,
            "bottom": null,
            "display": null,
            "flex": null,
            "flex_flow": null,
            "grid_area": null,
            "grid_auto_columns": null,
            "grid_auto_flow": null,
            "grid_auto_rows": null,
            "grid_column": null,
            "grid_gap": null,
            "grid_row": null,
            "grid_template_areas": null,
            "grid_template_columns": null,
            "grid_template_rows": null,
            "height": null,
            "justify_content": null,
            "justify_items": null,
            "left": null,
            "margin": null,
            "max_height": null,
            "max_width": null,
            "min_height": null,
            "min_width": null,
            "object_fit": null,
            "object_position": null,
            "order": null,
            "overflow": null,
            "overflow_x": null,
            "overflow_y": null,
            "padding": null,
            "right": null,
            "top": null,
            "visibility": null,
            "width": null
          }
        },
        "c50ed4f2c86d4288a9824bb46411b46c": {
          "model_module": "@jupyter-widgets/controls",
          "model_name": "DescriptionStyleModel",
          "model_module_version": "1.5.0",
          "state": {
            "_model_module": "@jupyter-widgets/controls",
            "_model_module_version": "1.5.0",
            "_model_name": "DescriptionStyleModel",
            "_view_count": null,
            "_view_module": "@jupyter-widgets/base",
            "_view_module_version": "1.2.0",
            "_view_name": "StyleView",
            "description_width": ""
          }
        },
        "0b504054ff43418998f3e421611decb1": {
          "model_module": "@jupyter-widgets/base",
          "model_name": "LayoutModel",
          "model_module_version": "1.2.0",
          "state": {
            "_model_module": "@jupyter-widgets/base",
            "_model_module_version": "1.2.0",
            "_model_name": "LayoutModel",
            "_view_count": null,
            "_view_module": "@jupyter-widgets/base",
            "_view_module_version": "1.2.0",
            "_view_name": "LayoutView",
            "align_content": null,
            "align_items": null,
            "align_self": null,
            "border": null,
            "bottom": null,
            "display": null,
            "flex": null,
            "flex_flow": null,
            "grid_area": null,
            "grid_auto_columns": null,
            "grid_auto_flow": null,
            "grid_auto_rows": null,
            "grid_column": null,
            "grid_gap": null,
            "grid_row": null,
            "grid_template_areas": null,
            "grid_template_columns": null,
            "grid_template_rows": null,
            "height": null,
            "justify_content": null,
            "justify_items": null,
            "left": null,
            "margin": null,
            "max_height": null,
            "max_width": null,
            "min_height": null,
            "min_width": null,
            "object_fit": null,
            "object_position": null,
            "order": null,
            "overflow": null,
            "overflow_x": null,
            "overflow_y": null,
            "padding": null,
            "right": null,
            "top": null,
            "visibility": null,
            "width": null
          }
        },
        "bd3c68abb34948fc84485bc6f7ce820b": {
          "model_module": "@jupyter-widgets/controls",
          "model_name": "ProgressStyleModel",
          "model_module_version": "1.5.0",
          "state": {
            "_model_module": "@jupyter-widgets/controls",
            "_model_module_version": "1.5.0",
            "_model_name": "ProgressStyleModel",
            "_view_count": null,
            "_view_module": "@jupyter-widgets/base",
            "_view_module_version": "1.2.0",
            "_view_name": "StyleView",
            "bar_color": null,
            "description_width": ""
          }
        },
        "5787b1e84d7049678e59b502db25147d": {
          "model_module": "@jupyter-widgets/base",
          "model_name": "LayoutModel",
          "model_module_version": "1.2.0",
          "state": {
            "_model_module": "@jupyter-widgets/base",
            "_model_module_version": "1.2.0",
            "_model_name": "LayoutModel",
            "_view_count": null,
            "_view_module": "@jupyter-widgets/base",
            "_view_module_version": "1.2.0",
            "_view_name": "LayoutView",
            "align_content": null,
            "align_items": null,
            "align_self": null,
            "border": null,
            "bottom": null,
            "display": null,
            "flex": null,
            "flex_flow": null,
            "grid_area": null,
            "grid_auto_columns": null,
            "grid_auto_flow": null,
            "grid_auto_rows": null,
            "grid_column": null,
            "grid_gap": null,
            "grid_row": null,
            "grid_template_areas": null,
            "grid_template_columns": null,
            "grid_template_rows": null,
            "height": null,
            "justify_content": null,
            "justify_items": null,
            "left": null,
            "margin": null,
            "max_height": null,
            "max_width": null,
            "min_height": null,
            "min_width": null,
            "object_fit": null,
            "object_position": null,
            "order": null,
            "overflow": null,
            "overflow_x": null,
            "overflow_y": null,
            "padding": null,
            "right": null,
            "top": null,
            "visibility": null,
            "width": null
          }
        },
        "a186ac002da546f79f220ef9f06dd150": {
          "model_module": "@jupyter-widgets/controls",
          "model_name": "DescriptionStyleModel",
          "model_module_version": "1.5.0",
          "state": {
            "_model_module": "@jupyter-widgets/controls",
            "_model_module_version": "1.5.0",
            "_model_name": "DescriptionStyleModel",
            "_view_count": null,
            "_view_module": "@jupyter-widgets/base",
            "_view_module_version": "1.2.0",
            "_view_name": "StyleView",
            "description_width": ""
          }
        },
        "40c63cf3ab894ab18b00d1c625ba4df4": {
          "model_module": "@jupyter-widgets/controls",
          "model_name": "HBoxModel",
          "model_module_version": "1.5.0",
          "state": {
            "_dom_classes": [],
            "_model_module": "@jupyter-widgets/controls",
            "_model_module_version": "1.5.0",
            "_model_name": "HBoxModel",
            "_view_count": null,
            "_view_module": "@jupyter-widgets/controls",
            "_view_module_version": "1.5.0",
            "_view_name": "HBoxView",
            "box_style": "",
            "children": [
              "IPY_MODEL_19153ada84f2437aae1a862ed6ad0805",
              "IPY_MODEL_da463d4d242342cf902672b45e7863b8",
              "IPY_MODEL_db52c2a5c6e644ca9986172518bbf2ae"
            ],
            "layout": "IPY_MODEL_fbec452973914fe684601f1b2a64e4a5"
          }
        },
        "19153ada84f2437aae1a862ed6ad0805": {
          "model_module": "@jupyter-widgets/controls",
          "model_name": "HTMLModel",
          "model_module_version": "1.5.0",
          "state": {
            "_dom_classes": [],
            "_model_module": "@jupyter-widgets/controls",
            "_model_module_version": "1.5.0",
            "_model_name": "HTMLModel",
            "_view_count": null,
            "_view_module": "@jupyter-widgets/controls",
            "_view_module_version": "1.5.0",
            "_view_name": "HTMLView",
            "description": "",
            "description_tooltip": null,
            "layout": "IPY_MODEL_f4d8ea816c094223b4b61104e8430473",
            "placeholder": "​",
            "style": "IPY_MODEL_f27dd9c3c40d4e19b5737a5a110d4a7a",
            "value": "Downloading: 100%"
          }
        },
        "da463d4d242342cf902672b45e7863b8": {
          "model_module": "@jupyter-widgets/controls",
          "model_name": "FloatProgressModel",
          "model_module_version": "1.5.0",
          "state": {
            "_dom_classes": [],
            "_model_module": "@jupyter-widgets/controls",
            "_model_module_version": "1.5.0",
            "_model_name": "FloatProgressModel",
            "_view_count": null,
            "_view_module": "@jupyter-widgets/controls",
            "_view_module_version": "1.5.0",
            "_view_name": "ProgressView",
            "bar_style": "success",
            "description": "",
            "description_tooltip": null,
            "layout": "IPY_MODEL_89af27118a474bcf962d113dcba792b4",
            "max": 380,
            "min": 0,
            "orientation": "horizontal",
            "style": "IPY_MODEL_2aa1d370c1d847d9ab09fe2ab9944dbb",
            "value": 380
          }
        },
        "db52c2a5c6e644ca9986172518bbf2ae": {
          "model_module": "@jupyter-widgets/controls",
          "model_name": "HTMLModel",
          "model_module_version": "1.5.0",
          "state": {
            "_dom_classes": [],
            "_model_module": "@jupyter-widgets/controls",
            "_model_module_version": "1.5.0",
            "_model_name": "HTMLModel",
            "_view_count": null,
            "_view_module": "@jupyter-widgets/controls",
            "_view_module_version": "1.5.0",
            "_view_name": "HTMLView",
            "description": "",
            "description_tooltip": null,
            "layout": "IPY_MODEL_c875ecc80c3546f4a618103b5809792a",
            "placeholder": "​",
            "style": "IPY_MODEL_9490b69a5d2a4afc8f8418b6670a752b",
            "value": " 380/380 [00:00&lt;00:00, 5.93kB/s]"
          }
        },
        "fbec452973914fe684601f1b2a64e4a5": {
          "model_module": "@jupyter-widgets/base",
          "model_name": "LayoutModel",
          "model_module_version": "1.2.0",
          "state": {
            "_model_module": "@jupyter-widgets/base",
            "_model_module_version": "1.2.0",
            "_model_name": "LayoutModel",
            "_view_count": null,
            "_view_module": "@jupyter-widgets/base",
            "_view_module_version": "1.2.0",
            "_view_name": "LayoutView",
            "align_content": null,
            "align_items": null,
            "align_self": null,
            "border": null,
            "bottom": null,
            "display": null,
            "flex": null,
            "flex_flow": null,
            "grid_area": null,
            "grid_auto_columns": null,
            "grid_auto_flow": null,
            "grid_auto_rows": null,
            "grid_column": null,
            "grid_gap": null,
            "grid_row": null,
            "grid_template_areas": null,
            "grid_template_columns": null,
            "grid_template_rows": null,
            "height": null,
            "justify_content": null,
            "justify_items": null,
            "left": null,
            "margin": null,
            "max_height": null,
            "max_width": null,
            "min_height": null,
            "min_width": null,
            "object_fit": null,
            "object_position": null,
            "order": null,
            "overflow": null,
            "overflow_x": null,
            "overflow_y": null,
            "padding": null,
            "right": null,
            "top": null,
            "visibility": null,
            "width": null
          }
        },
        "f4d8ea816c094223b4b61104e8430473": {
          "model_module": "@jupyter-widgets/base",
          "model_name": "LayoutModel",
          "model_module_version": "1.2.0",
          "state": {
            "_model_module": "@jupyter-widgets/base",
            "_model_module_version": "1.2.0",
            "_model_name": "LayoutModel",
            "_view_count": null,
            "_view_module": "@jupyter-widgets/base",
            "_view_module_version": "1.2.0",
            "_view_name": "LayoutView",
            "align_content": null,
            "align_items": null,
            "align_self": null,
            "border": null,
            "bottom": null,
            "display": null,
            "flex": null,
            "flex_flow": null,
            "grid_area": null,
            "grid_auto_columns": null,
            "grid_auto_flow": null,
            "grid_auto_rows": null,
            "grid_column": null,
            "grid_gap": null,
            "grid_row": null,
            "grid_template_areas": null,
            "grid_template_columns": null,
            "grid_template_rows": null,
            "height": null,
            "justify_content": null,
            "justify_items": null,
            "left": null,
            "margin": null,
            "max_height": null,
            "max_width": null,
            "min_height": null,
            "min_width": null,
            "object_fit": null,
            "object_position": null,
            "order": null,
            "overflow": null,
            "overflow_x": null,
            "overflow_y": null,
            "padding": null,
            "right": null,
            "top": null,
            "visibility": null,
            "width": null
          }
        },
        "f27dd9c3c40d4e19b5737a5a110d4a7a": {
          "model_module": "@jupyter-widgets/controls",
          "model_name": "DescriptionStyleModel",
          "model_module_version": "1.5.0",
          "state": {
            "_model_module": "@jupyter-widgets/controls",
            "_model_module_version": "1.5.0",
            "_model_name": "DescriptionStyleModel",
            "_view_count": null,
            "_view_module": "@jupyter-widgets/base",
            "_view_module_version": "1.2.0",
            "_view_name": "StyleView",
            "description_width": ""
          }
        },
        "89af27118a474bcf962d113dcba792b4": {
          "model_module": "@jupyter-widgets/base",
          "model_name": "LayoutModel",
          "model_module_version": "1.2.0",
          "state": {
            "_model_module": "@jupyter-widgets/base",
            "_model_module_version": "1.2.0",
            "_model_name": "LayoutModel",
            "_view_count": null,
            "_view_module": "@jupyter-widgets/base",
            "_view_module_version": "1.2.0",
            "_view_name": "LayoutView",
            "align_content": null,
            "align_items": null,
            "align_self": null,
            "border": null,
            "bottom": null,
            "display": null,
            "flex": null,
            "flex_flow": null,
            "grid_area": null,
            "grid_auto_columns": null,
            "grid_auto_flow": null,
            "grid_auto_rows": null,
            "grid_column": null,
            "grid_gap": null,
            "grid_row": null,
            "grid_template_areas": null,
            "grid_template_columns": null,
            "grid_template_rows": null,
            "height": null,
            "justify_content": null,
            "justify_items": null,
            "left": null,
            "margin": null,
            "max_height": null,
            "max_width": null,
            "min_height": null,
            "min_width": null,
            "object_fit": null,
            "object_position": null,
            "order": null,
            "overflow": null,
            "overflow_x": null,
            "overflow_y": null,
            "padding": null,
            "right": null,
            "top": null,
            "visibility": null,
            "width": null
          }
        },
        "2aa1d370c1d847d9ab09fe2ab9944dbb": {
          "model_module": "@jupyter-widgets/controls",
          "model_name": "ProgressStyleModel",
          "model_module_version": "1.5.0",
          "state": {
            "_model_module": "@jupyter-widgets/controls",
            "_model_module_version": "1.5.0",
            "_model_name": "ProgressStyleModel",
            "_view_count": null,
            "_view_module": "@jupyter-widgets/base",
            "_view_module_version": "1.2.0",
            "_view_name": "StyleView",
            "bar_color": null,
            "description_width": ""
          }
        },
        "c875ecc80c3546f4a618103b5809792a": {
          "model_module": "@jupyter-widgets/base",
          "model_name": "LayoutModel",
          "model_module_version": "1.2.0",
          "state": {
            "_model_module": "@jupyter-widgets/base",
            "_model_module_version": "1.2.0",
            "_model_name": "LayoutModel",
            "_view_count": null,
            "_view_module": "@jupyter-widgets/base",
            "_view_module_version": "1.2.0",
            "_view_name": "LayoutView",
            "align_content": null,
            "align_items": null,
            "align_self": null,
            "border": null,
            "bottom": null,
            "display": null,
            "flex": null,
            "flex_flow": null,
            "grid_area": null,
            "grid_auto_columns": null,
            "grid_auto_flow": null,
            "grid_auto_rows": null,
            "grid_column": null,
            "grid_gap": null,
            "grid_row": null,
            "grid_template_areas": null,
            "grid_template_columns": null,
            "grid_template_rows": null,
            "height": null,
            "justify_content": null,
            "justify_items": null,
            "left": null,
            "margin": null,
            "max_height": null,
            "max_width": null,
            "min_height": null,
            "min_width": null,
            "object_fit": null,
            "object_position": null,
            "order": null,
            "overflow": null,
            "overflow_x": null,
            "overflow_y": null,
            "padding": null,
            "right": null,
            "top": null,
            "visibility": null,
            "width": null
          }
        },
        "9490b69a5d2a4afc8f8418b6670a752b": {
          "model_module": "@jupyter-widgets/controls",
          "model_name": "DescriptionStyleModel",
          "model_module_version": "1.5.0",
          "state": {
            "_model_module": "@jupyter-widgets/controls",
            "_model_module_version": "1.5.0",
            "_model_name": "DescriptionStyleModel",
            "_view_count": null,
            "_view_module": "@jupyter-widgets/base",
            "_view_module_version": "1.2.0",
            "_view_name": "StyleView",
            "description_width": ""
          }
        },
        "1fbf682956f243c79869a223fa348384": {
          "model_module": "@jupyter-widgets/controls",
          "model_name": "HBoxModel",
          "model_module_version": "1.5.0",
          "state": {
            "_dom_classes": [],
            "_model_module": "@jupyter-widgets/controls",
            "_model_module_version": "1.5.0",
            "_model_name": "HBoxModel",
            "_view_count": null,
            "_view_module": "@jupyter-widgets/controls",
            "_view_module_version": "1.5.0",
            "_view_name": "HBoxView",
            "box_style": "",
            "children": [
              "IPY_MODEL_f48279df06464077bafb3989fe4b8193",
              "IPY_MODEL_4a15f042f83942f3bbbc582d3efc1652",
              "IPY_MODEL_dd503426ed6a4b61b4cbad8ca099c937"
            ],
            "layout": "IPY_MODEL_2b8003af080e4fbb8b54e977aa86d264"
          }
        },
        "f48279df06464077bafb3989fe4b8193": {
          "model_module": "@jupyter-widgets/controls",
          "model_name": "HTMLModel",
          "model_module_version": "1.5.0",
          "state": {
            "_dom_classes": [],
            "_model_module": "@jupyter-widgets/controls",
            "_model_module_version": "1.5.0",
            "_model_name": "HTMLModel",
            "_view_count": null,
            "_view_module": "@jupyter-widgets/controls",
            "_view_module_version": "1.5.0",
            "_view_name": "HTMLView",
            "description": "",
            "description_tooltip": null,
            "layout": "IPY_MODEL_8213ba1df1144869b64e6e74f892b9fc",
            "placeholder": "​",
            "style": "IPY_MODEL_a95518916fd446cca7b71581c541626a",
            "value": "Downloading: 100%"
          }
        },
        "4a15f042f83942f3bbbc582d3efc1652": {
          "model_module": "@jupyter-widgets/controls",
          "model_name": "FloatProgressModel",
          "model_module_version": "1.5.0",
          "state": {
            "_dom_classes": [],
            "_model_module": "@jupyter-widgets/controls",
            "_model_module_version": "1.5.0",
            "_model_name": "FloatProgressModel",
            "_view_count": null,
            "_view_module": "@jupyter-widgets/controls",
            "_view_module_version": "1.5.0",
            "_view_name": "ProgressView",
            "bar_style": "success",
            "description": "",
            "description_tooltip": null,
            "layout": "IPY_MODEL_8d63c2c05a874805b8a71cad2d9addb7",
            "max": 21555,
            "min": 0,
            "orientation": "horizontal",
            "style": "IPY_MODEL_739e8691811e4324847c905a46fba635",
            "value": 21555
          }
        },
        "dd503426ed6a4b61b4cbad8ca099c937": {
          "model_module": "@jupyter-widgets/controls",
          "model_name": "HTMLModel",
          "model_module_version": "1.5.0",
          "state": {
            "_dom_classes": [],
            "_model_module": "@jupyter-widgets/controls",
            "_model_module_version": "1.5.0",
            "_model_name": "HTMLModel",
            "_view_count": null,
            "_view_module": "@jupyter-widgets/controls",
            "_view_module_version": "1.5.0",
            "_view_name": "HTMLView",
            "description": "",
            "description_tooltip": null,
            "layout": "IPY_MODEL_f0dde797739a49ed98407a98e9cffa6e",
            "placeholder": "​",
            "style": "IPY_MODEL_709021ab851f426aa29dd4e887113cc2",
            "value": " 21.6k/21.6k [00:00&lt;00:00, 349kB/s]"
          }
        },
        "2b8003af080e4fbb8b54e977aa86d264": {
          "model_module": "@jupyter-widgets/base",
          "model_name": "LayoutModel",
          "model_module_version": "1.2.0",
          "state": {
            "_model_module": "@jupyter-widgets/base",
            "_model_module_version": "1.2.0",
            "_model_name": "LayoutModel",
            "_view_count": null,
            "_view_module": "@jupyter-widgets/base",
            "_view_module_version": "1.2.0",
            "_view_name": "LayoutView",
            "align_content": null,
            "align_items": null,
            "align_self": null,
            "border": null,
            "bottom": null,
            "display": null,
            "flex": null,
            "flex_flow": null,
            "grid_area": null,
            "grid_auto_columns": null,
            "grid_auto_flow": null,
            "grid_auto_rows": null,
            "grid_column": null,
            "grid_gap": null,
            "grid_row": null,
            "grid_template_areas": null,
            "grid_template_columns": null,
            "grid_template_rows": null,
            "height": null,
            "justify_content": null,
            "justify_items": null,
            "left": null,
            "margin": null,
            "max_height": null,
            "max_width": null,
            "min_height": null,
            "min_width": null,
            "object_fit": null,
            "object_position": null,
            "order": null,
            "overflow": null,
            "overflow_x": null,
            "overflow_y": null,
            "padding": null,
            "right": null,
            "top": null,
            "visibility": null,
            "width": null
          }
        },
        "8213ba1df1144869b64e6e74f892b9fc": {
          "model_module": "@jupyter-widgets/base",
          "model_name": "LayoutModel",
          "model_module_version": "1.2.0",
          "state": {
            "_model_module": "@jupyter-widgets/base",
            "_model_module_version": "1.2.0",
            "_model_name": "LayoutModel",
            "_view_count": null,
            "_view_module": "@jupyter-widgets/base",
            "_view_module_version": "1.2.0",
            "_view_name": "LayoutView",
            "align_content": null,
            "align_items": null,
            "align_self": null,
            "border": null,
            "bottom": null,
            "display": null,
            "flex": null,
            "flex_flow": null,
            "grid_area": null,
            "grid_auto_columns": null,
            "grid_auto_flow": null,
            "grid_auto_rows": null,
            "grid_column": null,
            "grid_gap": null,
            "grid_row": null,
            "grid_template_areas": null,
            "grid_template_columns": null,
            "grid_template_rows": null,
            "height": null,
            "justify_content": null,
            "justify_items": null,
            "left": null,
            "margin": null,
            "max_height": null,
            "max_width": null,
            "min_height": null,
            "min_width": null,
            "object_fit": null,
            "object_position": null,
            "order": null,
            "overflow": null,
            "overflow_x": null,
            "overflow_y": null,
            "padding": null,
            "right": null,
            "top": null,
            "visibility": null,
            "width": null
          }
        },
        "a95518916fd446cca7b71581c541626a": {
          "model_module": "@jupyter-widgets/controls",
          "model_name": "DescriptionStyleModel",
          "model_module_version": "1.5.0",
          "state": {
            "_model_module": "@jupyter-widgets/controls",
            "_model_module_version": "1.5.0",
            "_model_name": "DescriptionStyleModel",
            "_view_count": null,
            "_view_module": "@jupyter-widgets/base",
            "_view_module_version": "1.2.0",
            "_view_name": "StyleView",
            "description_width": ""
          }
        },
        "8d63c2c05a874805b8a71cad2d9addb7": {
          "model_module": "@jupyter-widgets/base",
          "model_name": "LayoutModel",
          "model_module_version": "1.2.0",
          "state": {
            "_model_module": "@jupyter-widgets/base",
            "_model_module_version": "1.2.0",
            "_model_name": "LayoutModel",
            "_view_count": null,
            "_view_module": "@jupyter-widgets/base",
            "_view_module_version": "1.2.0",
            "_view_name": "LayoutView",
            "align_content": null,
            "align_items": null,
            "align_self": null,
            "border": null,
            "bottom": null,
            "display": null,
            "flex": null,
            "flex_flow": null,
            "grid_area": null,
            "grid_auto_columns": null,
            "grid_auto_flow": null,
            "grid_auto_rows": null,
            "grid_column": null,
            "grid_gap": null,
            "grid_row": null,
            "grid_template_areas": null,
            "grid_template_columns": null,
            "grid_template_rows": null,
            "height": null,
            "justify_content": null,
            "justify_items": null,
            "left": null,
            "margin": null,
            "max_height": null,
            "max_width": null,
            "min_height": null,
            "min_width": null,
            "object_fit": null,
            "object_position": null,
            "order": null,
            "overflow": null,
            "overflow_x": null,
            "overflow_y": null,
            "padding": null,
            "right": null,
            "top": null,
            "visibility": null,
            "width": null
          }
        },
        "739e8691811e4324847c905a46fba635": {
          "model_module": "@jupyter-widgets/controls",
          "model_name": "ProgressStyleModel",
          "model_module_version": "1.5.0",
          "state": {
            "_model_module": "@jupyter-widgets/controls",
            "_model_module_version": "1.5.0",
            "_model_name": "ProgressStyleModel",
            "_view_count": null,
            "_view_module": "@jupyter-widgets/base",
            "_view_module_version": "1.2.0",
            "_view_name": "StyleView",
            "bar_color": null,
            "description_width": ""
          }
        },
        "f0dde797739a49ed98407a98e9cffa6e": {
          "model_module": "@jupyter-widgets/base",
          "model_name": "LayoutModel",
          "model_module_version": "1.2.0",
          "state": {
            "_model_module": "@jupyter-widgets/base",
            "_model_module_version": "1.2.0",
            "_model_name": "LayoutModel",
            "_view_count": null,
            "_view_module": "@jupyter-widgets/base",
            "_view_module_version": "1.2.0",
            "_view_name": "LayoutView",
            "align_content": null,
            "align_items": null,
            "align_self": null,
            "border": null,
            "bottom": null,
            "display": null,
            "flex": null,
            "flex_flow": null,
            "grid_area": null,
            "grid_auto_columns": null,
            "grid_auto_flow": null,
            "grid_auto_rows": null,
            "grid_column": null,
            "grid_gap": null,
            "grid_row": null,
            "grid_template_areas": null,
            "grid_template_columns": null,
            "grid_template_rows": null,
            "height": null,
            "justify_content": null,
            "justify_items": null,
            "left": null,
            "margin": null,
            "max_height": null,
            "max_width": null,
            "min_height": null,
            "min_width": null,
            "object_fit": null,
            "object_position": null,
            "order": null,
            "overflow": null,
            "overflow_x": null,
            "overflow_y": null,
            "padding": null,
            "right": null,
            "top": null,
            "visibility": null,
            "width": null
          }
        },
        "709021ab851f426aa29dd4e887113cc2": {
          "model_module": "@jupyter-widgets/controls",
          "model_name": "DescriptionStyleModel",
          "model_module_version": "1.5.0",
          "state": {
            "_model_module": "@jupyter-widgets/controls",
            "_model_module_version": "1.5.0",
            "_model_name": "DescriptionStyleModel",
            "_view_count": null,
            "_view_module": "@jupyter-widgets/base",
            "_view_module_version": "1.2.0",
            "_view_name": "StyleView",
            "description_width": ""
          }
        },
        "085d5180f6e94c509ec9dd994faa790f": {
          "model_module": "@jupyter-widgets/controls",
          "model_name": "HBoxModel",
          "model_module_version": "1.5.0",
          "state": {
            "_dom_classes": [],
            "_model_module": "@jupyter-widgets/controls",
            "_model_module_version": "1.5.0",
            "_model_name": "HBoxModel",
            "_view_count": null,
            "_view_module": "@jupyter-widgets/controls",
            "_view_module_version": "1.5.0",
            "_view_name": "HBoxView",
            "box_style": "",
            "children": [
              "IPY_MODEL_5b1282574e284ce4b452c1f990d14276",
              "IPY_MODEL_83e9055f1f3e48daad824cb1eef4b11e",
              "IPY_MODEL_6f737f1454aa409c9e1ebd4e312576d0"
            ],
            "layout": "IPY_MODEL_769546adfd584a508818096af6d41d9b"
          }
        },
        "5b1282574e284ce4b452c1f990d14276": {
          "model_module": "@jupyter-widgets/controls",
          "model_name": "HTMLModel",
          "model_module_version": "1.5.0",
          "state": {
            "_dom_classes": [],
            "_model_module": "@jupyter-widgets/controls",
            "_model_module_version": "1.5.0",
            "_model_name": "HTMLModel",
            "_view_count": null,
            "_view_module": "@jupyter-widgets/controls",
            "_view_module_version": "1.5.0",
            "_view_name": "HTMLView",
            "description": "",
            "description_tooltip": null,
            "layout": "IPY_MODEL_87a95e921332492493b11271022c3b7b",
            "placeholder": "​",
            "style": "IPY_MODEL_b97fb107dddb4cc0b7e358e57a90a4bc",
            "value": "Downloading: 100%"
          }
        },
        "83e9055f1f3e48daad824cb1eef4b11e": {
          "model_module": "@jupyter-widgets/controls",
          "model_name": "FloatProgressModel",
          "model_module_version": "1.5.0",
          "state": {
            "_dom_classes": [],
            "_model_module": "@jupyter-widgets/controls",
            "_model_module_version": "1.5.0",
            "_model_name": "FloatProgressModel",
            "_view_count": null,
            "_view_module": "@jupyter-widgets/controls",
            "_view_module_version": "1.5.0",
            "_view_name": "ProgressView",
            "bar_style": "success",
            "description": "",
            "description_tooltip": null,
            "layout": "IPY_MODEL_2eae892f87824a108bc4ca2ae0819017",
            "max": 99,
            "min": 0,
            "orientation": "horizontal",
            "style": "IPY_MODEL_6e6c47969d6648da91d905adc3fc2cf9",
            "value": 99
          }
        },
        "6f737f1454aa409c9e1ebd4e312576d0": {
          "model_module": "@jupyter-widgets/controls",
          "model_name": "HTMLModel",
          "model_module_version": "1.5.0",
          "state": {
            "_dom_classes": [],
            "_model_module": "@jupyter-widgets/controls",
            "_model_module_version": "1.5.0",
            "_model_name": "HTMLModel",
            "_view_count": null,
            "_view_module": "@jupyter-widgets/controls",
            "_view_module_version": "1.5.0",
            "_view_name": "HTMLView",
            "description": "",
            "description_tooltip": null,
            "layout": "IPY_MODEL_06f595173a0341ecb72477accda4f3f0",
            "placeholder": "​",
            "style": "IPY_MODEL_9e62197ac1544e9cbd908e7d91debc0d",
            "value": " 99.0/99.0 [00:00&lt;00:00, 2.37kB/s]"
          }
        },
        "769546adfd584a508818096af6d41d9b": {
          "model_module": "@jupyter-widgets/base",
          "model_name": "LayoutModel",
          "model_module_version": "1.2.0",
          "state": {
            "_model_module": "@jupyter-widgets/base",
            "_model_module_version": "1.2.0",
            "_model_name": "LayoutModel",
            "_view_count": null,
            "_view_module": "@jupyter-widgets/base",
            "_view_module_version": "1.2.0",
            "_view_name": "LayoutView",
            "align_content": null,
            "align_items": null,
            "align_self": null,
            "border": null,
            "bottom": null,
            "display": null,
            "flex": null,
            "flex_flow": null,
            "grid_area": null,
            "grid_auto_columns": null,
            "grid_auto_flow": null,
            "grid_auto_rows": null,
            "grid_column": null,
            "grid_gap": null,
            "grid_row": null,
            "grid_template_areas": null,
            "grid_template_columns": null,
            "grid_template_rows": null,
            "height": null,
            "justify_content": null,
            "justify_items": null,
            "left": null,
            "margin": null,
            "max_height": null,
            "max_width": null,
            "min_height": null,
            "min_width": null,
            "object_fit": null,
            "object_position": null,
            "order": null,
            "overflow": null,
            "overflow_x": null,
            "overflow_y": null,
            "padding": null,
            "right": null,
            "top": null,
            "visibility": null,
            "width": null
          }
        },
        "87a95e921332492493b11271022c3b7b": {
          "model_module": "@jupyter-widgets/base",
          "model_name": "LayoutModel",
          "model_module_version": "1.2.0",
          "state": {
            "_model_module": "@jupyter-widgets/base",
            "_model_module_version": "1.2.0",
            "_model_name": "LayoutModel",
            "_view_count": null,
            "_view_module": "@jupyter-widgets/base",
            "_view_module_version": "1.2.0",
            "_view_name": "LayoutView",
            "align_content": null,
            "align_items": null,
            "align_self": null,
            "border": null,
            "bottom": null,
            "display": null,
            "flex": null,
            "flex_flow": null,
            "grid_area": null,
            "grid_auto_columns": null,
            "grid_auto_flow": null,
            "grid_auto_rows": null,
            "grid_column": null,
            "grid_gap": null,
            "grid_row": null,
            "grid_template_areas": null,
            "grid_template_columns": null,
            "grid_template_rows": null,
            "height": null,
            "justify_content": null,
            "justify_items": null,
            "left": null,
            "margin": null,
            "max_height": null,
            "max_width": null,
            "min_height": null,
            "min_width": null,
            "object_fit": null,
            "object_position": null,
            "order": null,
            "overflow": null,
            "overflow_x": null,
            "overflow_y": null,
            "padding": null,
            "right": null,
            "top": null,
            "visibility": null,
            "width": null
          }
        },
        "b97fb107dddb4cc0b7e358e57a90a4bc": {
          "model_module": "@jupyter-widgets/controls",
          "model_name": "DescriptionStyleModel",
          "model_module_version": "1.5.0",
          "state": {
            "_model_module": "@jupyter-widgets/controls",
            "_model_module_version": "1.5.0",
            "_model_name": "DescriptionStyleModel",
            "_view_count": null,
            "_view_module": "@jupyter-widgets/base",
            "_view_module_version": "1.2.0",
            "_view_name": "StyleView",
            "description_width": ""
          }
        },
        "2eae892f87824a108bc4ca2ae0819017": {
          "model_module": "@jupyter-widgets/base",
          "model_name": "LayoutModel",
          "model_module_version": "1.2.0",
          "state": {
            "_model_module": "@jupyter-widgets/base",
            "_model_module_version": "1.2.0",
            "_model_name": "LayoutModel",
            "_view_count": null,
            "_view_module": "@jupyter-widgets/base",
            "_view_module_version": "1.2.0",
            "_view_name": "LayoutView",
            "align_content": null,
            "align_items": null,
            "align_self": null,
            "border": null,
            "bottom": null,
            "display": null,
            "flex": null,
            "flex_flow": null,
            "grid_area": null,
            "grid_auto_columns": null,
            "grid_auto_flow": null,
            "grid_auto_rows": null,
            "grid_column": null,
            "grid_gap": null,
            "grid_row": null,
            "grid_template_areas": null,
            "grid_template_columns": null,
            "grid_template_rows": null,
            "height": null,
            "justify_content": null,
            "justify_items": null,
            "left": null,
            "margin": null,
            "max_height": null,
            "max_width": null,
            "min_height": null,
            "min_width": null,
            "object_fit": null,
            "object_position": null,
            "order": null,
            "overflow": null,
            "overflow_x": null,
            "overflow_y": null,
            "padding": null,
            "right": null,
            "top": null,
            "visibility": null,
            "width": null
          }
        },
        "6e6c47969d6648da91d905adc3fc2cf9": {
          "model_module": "@jupyter-widgets/controls",
          "model_name": "ProgressStyleModel",
          "model_module_version": "1.5.0",
          "state": {
            "_model_module": "@jupyter-widgets/controls",
            "_model_module_version": "1.5.0",
            "_model_name": "ProgressStyleModel",
            "_view_count": null,
            "_view_module": "@jupyter-widgets/base",
            "_view_module_version": "1.2.0",
            "_view_name": "StyleView",
            "bar_color": null,
            "description_width": ""
          }
        },
        "06f595173a0341ecb72477accda4f3f0": {
          "model_module": "@jupyter-widgets/base",
          "model_name": "LayoutModel",
          "model_module_version": "1.2.0",
          "state": {
            "_model_module": "@jupyter-widgets/base",
            "_model_module_version": "1.2.0",
            "_model_name": "LayoutModel",
            "_view_count": null,
            "_view_module": "@jupyter-widgets/base",
            "_view_module_version": "1.2.0",
            "_view_name": "LayoutView",
            "align_content": null,
            "align_items": null,
            "align_self": null,
            "border": null,
            "bottom": null,
            "display": null,
            "flex": null,
            "flex_flow": null,
            "grid_area": null,
            "grid_auto_columns": null,
            "grid_auto_flow": null,
            "grid_auto_rows": null,
            "grid_column": null,
            "grid_gap": null,
            "grid_row": null,
            "grid_template_areas": null,
            "grid_template_columns": null,
            "grid_template_rows": null,
            "height": null,
            "justify_content": null,
            "justify_items": null,
            "left": null,
            "margin": null,
            "max_height": null,
            "max_width": null,
            "min_height": null,
            "min_width": null,
            "object_fit": null,
            "object_position": null,
            "order": null,
            "overflow": null,
            "overflow_x": null,
            "overflow_y": null,
            "padding": null,
            "right": null,
            "top": null,
            "visibility": null,
            "width": null
          }
        },
        "9e62197ac1544e9cbd908e7d91debc0d": {
          "model_module": "@jupyter-widgets/controls",
          "model_name": "DescriptionStyleModel",
          "model_module_version": "1.5.0",
          "state": {
            "_model_module": "@jupyter-widgets/controls",
            "_model_module_version": "1.5.0",
            "_model_name": "DescriptionStyleModel",
            "_view_count": null,
            "_view_module": "@jupyter-widgets/base",
            "_view_module_version": "1.2.0",
            "_view_name": "StyleView",
            "description_width": ""
          }
        }
      }
    }
  },
  "nbformat": 4,
  "nbformat_minor": 0
}